{
 "cells": [
  {
   "cell_type": "code",
   "execution_count": 1,
   "metadata": {},
   "outputs": [
    {
     "data": {
      "text/plain": [
       "'/Users/elenatajadura/dev/git/master-data-science/amadeus_challege'"
      ]
     },
     "execution_count": 1,
     "metadata": {},
     "output_type": "execute_result"
    }
   ],
   "source": [
    "pwd\n"
   ]
  },
  {
   "cell_type": "code",
   "execution_count": 2,
   "metadata": {},
   "outputs": [
    {
     "name": "stdout",
     "output_type": "stream",
     "text": [
      "\r\n",
      "bzcat: I/O or other error, bailing out.  Possible reason follows.\r\n",
      "bzcat: Broken pipe\r\n",
      "\tInput file = bookings.csv.bz2, output file = (stdout)\r\n"
     ]
    }
   ],
   "source": [
    "! bzcat bookings.csv.bz2 | head -10000 > bookings.sample.csv"
   ]
  },
  {
   "cell_type": "code",
   "execution_count": 3,
   "metadata": {},
   "outputs": [
    {
     "name": "stdout",
     "output_type": "stream",
     "text": [
      "10-11_Python_AmadChall_v18 (1).pptx  bookings.sample.csv.bz2\r\n",
      "Untitled.ipynb                       searches.csv.bz2\r\n",
      "bookings.csv.bz2                     searches.sample.csv.bz2\r\n",
      "bookings.sample.csv\r\n"
     ]
    }
   ],
   "source": [
    "ls\n"
   ]
  },
  {
   "cell_type": "code",
   "execution_count": 4,
   "metadata": {},
   "outputs": [],
   "source": [
    "! bzip2 -f ./bookings.sample.csv\n"
   ]
  },
  {
   "cell_type": "code",
   "execution_count": 5,
   "metadata": {},
   "outputs": [
    {
     "name": "stdout",
     "output_type": "stream",
     "text": [
      "total 2068976\r\n",
      "drwxr-xr-x   9 elenatajadura  staff        288 30 nov 09:25 \u001b[1m\u001b[36m.\u001b[m\u001b[m/\r\n",
      "drwxr-xr-x  11 elenatajadura  staff        352 30 nov 08:51 \u001b[1m\u001b[36m..\u001b[m\u001b[m/\r\n",
      "drwxr-xr-x   3 elenatajadura  staff         96 30 nov 08:54 \u001b[1m\u001b[36m.ipynb_checkpoints\u001b[m\u001b[m/\r\n",
      "-rw-r--r--@  1 elenatajadura  staff     173167 30 nov 08:06 10-11_Python_AmadChall_v18 (1).pptx\r\n",
      "-rw-r--r--   1 elenatajadura  staff       7941 30 nov 09:24 Untitled.ipynb\r\n",
      "-rw-r--r--@  1 elenatajadura  staff  554970628 30 nov 08:52 bookings.csv.bz2\r\n",
      "-rw-r--r--   1 elenatajadura  staff     535893 30 nov 09:25 bookings.sample.csv.bz2\r\n",
      "-rw-r--r--@  1 elenatajadura  staff  483188920 30 nov 08:51 searches.csv.bz2\r\n",
      "-rw-r--r--   1 elenatajadura  staff     244720 30 nov 09:19 searches.sample.csv.bz2\r\n"
     ]
    }
   ],
   "source": [
    "ls -la"
   ]
  },
  {
   "cell_type": "code",
   "execution_count": 6,
   "metadata": {},
   "outputs": [],
   "source": [
    "%%bash\n",
    "bzcat searches.csv.bz2 | head -10000 > searches.sample.csv\n",
    "bzip2 -f ./searches.sample.csv"
   ]
  },
  {
   "cell_type": "code",
   "execution_count": 7,
   "metadata": {},
   "outputs": [
    {
     "name": "stdout",
     "output_type": "stream",
     "text": [
      "total 2068976\r\n",
      "drwxr-xr-x   9 elenatajadura  staff        288 30 nov 09:25 \u001b[1m\u001b[36m.\u001b[m\u001b[m/\r\n",
      "drwxr-xr-x  11 elenatajadura  staff        352 30 nov 08:51 \u001b[1m\u001b[36m..\u001b[m\u001b[m/\r\n",
      "drwxr-xr-x   3 elenatajadura  staff         96 30 nov 08:54 \u001b[1m\u001b[36m.ipynb_checkpoints\u001b[m\u001b[m/\r\n",
      "-rw-r--r--@  1 elenatajadura  staff     173167 30 nov 08:06 10-11_Python_AmadChall_v18 (1).pptx\r\n",
      "-rw-r--r--   1 elenatajadura  staff       7941 30 nov 09:24 Untitled.ipynb\r\n",
      "-rw-r--r--@  1 elenatajadura  staff  554970628 30 nov 08:52 bookings.csv.bz2\r\n",
      "-rw-r--r--   1 elenatajadura  staff     535893 30 nov 09:25 bookings.sample.csv.bz2\r\n",
      "-rw-r--r--@  1 elenatajadura  staff  483188920 30 nov 08:51 searches.csv.bz2\r\n",
      "-rw-r--r--   1 elenatajadura  staff     244720 30 nov 09:25 searches.sample.csv.bz2\r\n"
     ]
    }
   ],
   "source": [
    "ls -la"
   ]
  },
  {
   "cell_type": "code",
   "execution_count": 8,
   "metadata": {},
   "outputs": [
    {
     "name": "stdout",
     "output_type": "stream",
     "text": [
      "   10000\r\n"
     ]
    }
   ],
   "source": [
    "! bzcat searches.sample.csv.bz2 | wc -l"
   ]
  },
  {
   "cell_type": "code",
   "execution_count": null,
   "metadata": {},
   "outputs": [],
   "source": [
    "! bzcat searches.csv.bz2 | wc -l"
   ]
  },
  {
   "cell_type": "code",
   "execution_count": 10,
   "metadata": {},
   "outputs": [],
   "source": [
    "#Tamnbien se puede ver el numero de lineas con python\n",
    "import bz2\n"
   ]
  },
  {
   "cell_type": "code",
   "execution_count": 11,
   "metadata": {},
   "outputs": [],
   "source": [
    "filename='./bookings.sample.csv.bz2'"
   ]
  },
  {
   "cell_type": "code",
   "execution_count": 13,
   "metadata": {},
   "outputs": [
    {
     "data": {
      "text/plain": [
       "bz2.BZ2File"
      ]
     },
     "execution_count": 13,
     "metadata": {},
     "output_type": "execute_result"
    }
   ],
   "source": [
    "fileBz2=bz2.BZ2File(filename)\n",
    "type(fileBz2)"
   ]
  },
  {
   "cell_type": "code",
   "execution_count": 14,
   "metadata": {},
   "outputs": [
    {
     "data": {
      "text/plain": [
       "bz2.BZ2File"
      ]
     },
     "execution_count": 14,
     "metadata": {},
     "output_type": "execute_result"
    }
   ],
   "source": [
    "bz2.BZ2File"
   ]
  },
  {
   "cell_type": "code",
   "execution_count": 16,
   "metadata": {},
   "outputs": [
    {
     "data": {
      "text/plain": [
       "10000"
      ]
     },
     "execution_count": 16,
     "metadata": {},
     "output_type": "execute_result"
    }
   ],
   "source": [
    "len(fileBz2.readlines())"
   ]
  },
  {
   "cell_type": "code",
   "execution_count": 17,
   "metadata": {},
   "outputs": [
    {
     "name": "stdout",
     "output_type": "stream",
     "text": [
      "Variable   Type       Data/Info\n",
      "-------------------------------\n",
      "bz2        module     <module 'bz2' from '/User<...>a3/lib/python3.7/bz2.py'>\n",
      "fileBz2    BZ2File    <bz2.BZ2File object at 0x7faa5a05acd0>\n",
      "filename   str        ./bookings.sample.csv.bz2\n"
     ]
    }
   ],
   "source": [
    "%whos"
   ]
  },
  {
   "cell_type": "code",
   "execution_count": 19,
   "metadata": {},
   "outputs": [],
   "source": [
    "#podemos cerrzar el fichero despues de leerlo\n",
    "fileBz2.close()"
   ]
  },
  {
   "cell_type": "code",
   "execution_count": 20,
   "metadata": {},
   "outputs": [
    {
     "data": {
      "text/plain": [
       "True"
      ]
     },
     "execution_count": 20,
     "metadata": {},
     "output_type": "execute_result"
    }
   ],
   "source": [
    "fileBz2.closed"
   ]
  },
  {
   "cell_type": "code",
   "execution_count": 21,
   "metadata": {},
   "outputs": [
    {
     "name": "stdout",
     "output_type": "stream",
     "text": [
      "10000\n"
     ]
    },
    {
     "data": {
      "text/plain": [
       "True"
      ]
     },
     "execution_count": 21,
     "metadata": {},
     "output_type": "execute_result"
    }
   ],
   "source": [
    "#con la siguiente forma se abre y cierra automaticamente el fichero y no necesitamos cerrarlo a mano\n",
    "with bz2.BZ2File(filename) as fileBz2:\n",
    "    k=0\n",
    "    for line in fileBz2:\n",
    "        k+=1\n",
    "print(k)\n",
    "fileBz2.closed"
   ]
  },
  {
   "cell_type": "code",
   "execution_count": 22,
   "metadata": {},
   "outputs": [
    {
     "name": "stdout",
     "output_type": "stream",
     "text": [
      "9999\n"
     ]
    },
    {
     "data": {
      "text/plain": [
       "True"
      ]
     },
     "execution_count": 22,
     "metadata": {},
     "output_type": "execute_result"
    }
   ],
   "source": [
    "#Otra forma es esta aunque esta quita el header proque detecta que no son valores\n",
    "with bz2.BZ2File(filename) as fileBz2:\n",
    "    k=0\n",
    "    for k, line in enumerate(fileBz2):\n",
    "        pass\n",
    "print(k)\n",
    "fileBz2.closed"
   ]
  },
  {
   "cell_type": "code",
   "execution_count": 23,
   "metadata": {},
   "outputs": [
    {
     "name": "stdout",
     "output_type": "stream",
     "text": [
      "10000\n"
     ]
    },
    {
     "data": {
      "text/plain": [
       "True"
      ]
     },
     "execution_count": 23,
     "metadata": {},
     "output_type": "execute_result"
    }
   ],
   "source": [
    "#con una list comprehension\n",
    "with bz2.BZ2File(filename) as fileBz2:\n",
    "    k=sum([1 for line in fileBz2])\n",
    "    \n",
    "print(k)\n",
    "fileBz2.closed"
   ]
  },
  {
   "cell_type": "code",
   "execution_count": 27,
   "metadata": {},
   "outputs": [
    {
     "name": "stdout",
     "output_type": "stream",
     "text": [
      "10000\n"
     ]
    },
    {
     "data": {
      "text/plain": [
       "True"
      ]
     },
     "execution_count": 27,
     "metadata": {},
     "output_type": "execute_result"
    }
   ],
   "source": [
    "#Otra forma es esta aunque esta quita el header proque detecta que no son valores\n",
    "try:\n",
    "    with bz2.BZ2File(filename) as fileBz2:\n",
    "        for k, line in enumerate(fileBz2):\n",
    "            pass\n",
    "        print(k+1)\n",
    "except:\n",
    "    print(\"unexpected error\")\n",
    "fileBz2.closed"
   ]
  },
  {
   "cell_type": "code",
   "execution_count": 29,
   "metadata": {},
   "outputs": [
    {
     "name": "stdout",
     "output_type": "stream",
     "text": [
      "File not found\n"
     ]
    },
    {
     "data": {
      "text/plain": [
       "True"
      ]
     },
     "execution_count": 29,
     "metadata": {},
     "output_type": "execute_result"
    }
   ],
   "source": [
    "#para tratar excepciones en python:\n",
    "filename='./hkkjgk'\n",
    "try:\n",
    "    with bz2.BZ2File(filename) as fileBz2:\n",
    "        for k, line in enumerate(fileBz2):\n",
    "            pass\n",
    "        print(k+1)\n",
    "except FileNotFoundError:\n",
    "    print('File not found')\n",
    "except ValueError:\n",
    "    print('Value error')\n",
    "except:\n",
    "    print(\"unexpected error\")\n",
    "fileBz2.closed"
   ]
  },
  {
   "cell_type": "markdown",
   "metadata": {},
   "source": [
    "# Exercise 2"
   ]
  },
  {
   "cell_type": "markdown",
   "metadata": {},
   "source": [
    "## 0) Prepare booking Sample (we might need this for later)"
   ]
  },
  {
   "cell_type": "code",
   "execution_count": 30,
   "metadata": {},
   "outputs": [
    {
     "data": {
      "text/plain": [
       "'/Users/elenatajadura/dev/git/master-data-science/amadeus_challege'"
      ]
     },
     "execution_count": 30,
     "metadata": {},
     "output_type": "execute_result"
    }
   ],
   "source": [
    "pwd\n"
   ]
  },
  {
   "cell_type": "code",
   "execution_count": 31,
   "metadata": {},
   "outputs": [],
   "source": [
    "import pandas as pd"
   ]
  },
  {
   "cell_type": "code",
   "execution_count": null,
   "metadata": {},
   "outputs": [],
   "source": [
    "#Don`t do this because the file is too long\n",
    "#b= pd.read_csv('bookings.csv.bz2',sep='^')"
   ]
  },
  {
   "cell_type": "code",
   "execution_count": 35,
   "metadata": {},
   "outputs": [],
   "source": [
    "b= pd.read_csv('bookings.csv.bz2',sep='^', nrows=9999)"
   ]
  },
  {
   "cell_type": "code",
   "execution_count": 36,
   "metadata": {},
   "outputs": [
    {
     "data": {
      "text/plain": [
       "(9999, 38)"
      ]
     },
     "execution_count": 36,
     "metadata": {},
     "output_type": "execute_result"
    }
   ],
   "source": [
    "b.shape"
   ]
  },
  {
   "cell_type": "code",
   "execution_count": 37,
   "metadata": {},
   "outputs": [],
   "source": [
    "#otra opcion\n",
    "b= pd.read_csv('bookings.sample.csv.bz2',sep='^')"
   ]
  },
  {
   "cell_type": "code",
   "execution_count": 38,
   "metadata": {},
   "outputs": [
    {
     "data": {
      "text/plain": [
       "(9999, 38)"
      ]
     },
     "execution_count": 38,
     "metadata": {},
     "output_type": "execute_result"
    }
   ],
   "source": [
    "#para ver num de filas y columnas\n",
    "b.shape"
   ]
  },
  {
   "cell_type": "markdown",
   "metadata": {},
   "source": [
    "## Commands for obtaining info"
   ]
  },
  {
   "cell_type": "code",
   "execution_count": 41,
   "metadata": {},
   "outputs": [
    {
     "data": {
      "text/html": [
       "<div>\n",
       "<style scoped>\n",
       "    .dataframe tbody tr th:only-of-type {\n",
       "        vertical-align: middle;\n",
       "    }\n",
       "\n",
       "    .dataframe tbody tr th {\n",
       "        vertical-align: top;\n",
       "    }\n",
       "\n",
       "    .dataframe thead th {\n",
       "        text-align: right;\n",
       "    }\n",
       "</style>\n",
       "<table border=\"1\" class=\"dataframe\">\n",
       "  <thead>\n",
       "    <tr style=\"text-align: right;\">\n",
       "      <th></th>\n",
       "      <th>act_date</th>\n",
       "      <th>source</th>\n",
       "      <th>pos_ctry</th>\n",
       "      <th>pos_iata</th>\n",
       "      <th>pos_oid</th>\n",
       "      <th>rloc</th>\n",
       "      <th>cre_date</th>\n",
       "      <th>duration</th>\n",
       "      <th>distance</th>\n",
       "      <th>dep_port</th>\n",
       "      <th>dep_city</th>\n",
       "      <th>dep_ctry</th>\n",
       "      <th>arr_port</th>\n",
       "      <th>arr_city</th>\n",
       "      <th>arr_ctry</th>\n",
       "      <th>lst_port</th>\n",
       "      <th>lst_city</th>\n",
       "      <th>lst_ctry</th>\n",
       "      <th>brd_port</th>\n",
       "      <th>brd_city</th>\n",
       "      <th>brd_ctry</th>\n",
       "      <th>off_port</th>\n",
       "      <th>off_city</th>\n",
       "      <th>off_ctry</th>\n",
       "      <th>mkt_port</th>\n",
       "      <th>mkt_city</th>\n",
       "      <th>mkt_ctry</th>\n",
       "      <th>intl</th>\n",
       "      <th>route</th>\n",
       "      <th>carrier</th>\n",
       "      <th>bkg_class</th>\n",
       "      <th>cab_class</th>\n",
       "      <th>brd_time</th>\n",
       "      <th>off_time</th>\n",
       "      <th>pax</th>\n",
       "      <th>year</th>\n",
       "      <th>month</th>\n",
       "      <th>oid</th>\n",
       "    </tr>\n",
       "  </thead>\n",
       "  <tbody>\n",
       "    <tr>\n",
       "      <td>0</td>\n",
       "      <td>2013-03-05 00:00:00</td>\n",
       "      <td>1A</td>\n",
       "      <td>DE</td>\n",
       "      <td>a68dd7ae953c8acfb187a1af2dcbe123</td>\n",
       "      <td>1a11ae49fcbf545fd2afc1a24d88d2b7</td>\n",
       "      <td>ea65900e72d71f4626378e2ebd298267</td>\n",
       "      <td>2013-02-22 00:00:00</td>\n",
       "      <td>1708</td>\n",
       "      <td>0</td>\n",
       "      <td>ZRH</td>\n",
       "      <td>ZRH</td>\n",
       "      <td>CH</td>\n",
       "      <td>LHR</td>\n",
       "      <td>LON</td>\n",
       "      <td>GB</td>\n",
       "      <td>ZRH</td>\n",
       "      <td>ZRH</td>\n",
       "      <td>CH</td>\n",
       "      <td>LHR</td>\n",
       "      <td>LON</td>\n",
       "      <td>GB</td>\n",
       "      <td>ZRH</td>\n",
       "      <td>ZRH</td>\n",
       "      <td>CH</td>\n",
       "      <td>LHRZRH</td>\n",
       "      <td>LONZRH</td>\n",
       "      <td>CHGB</td>\n",
       "      <td>1</td>\n",
       "      <td>LHRZRH</td>\n",
       "      <td>VI</td>\n",
       "      <td>T</td>\n",
       "      <td>Y</td>\n",
       "      <td>2013-03-07 08:50:00</td>\n",
       "      <td>2013-03-07 11:33:37</td>\n",
       "      <td>-1</td>\n",
       "      <td>2013</td>\n",
       "      <td>3</td>\n",
       "      <td>NULL</td>\n",
       "    </tr>\n",
       "    <tr>\n",
       "      <td>1</td>\n",
       "      <td>2013-03-26 00:00:00</td>\n",
       "      <td>1A</td>\n",
       "      <td>US</td>\n",
       "      <td>e612b9eeeee6f17f42d9b0d3b79e75ca</td>\n",
       "      <td>7437560d8f276d6d05eeb806d9e7edee</td>\n",
       "      <td>737295a86982c941f1c2da9a46a14043</td>\n",
       "      <td>2013-03-26 00:00:00</td>\n",
       "      <td>135270</td>\n",
       "      <td>0</td>\n",
       "      <td>SAL</td>\n",
       "      <td>SAL</td>\n",
       "      <td>SV</td>\n",
       "      <td>CLT</td>\n",
       "      <td>CLT</td>\n",
       "      <td>US</td>\n",
       "      <td>SAL</td>\n",
       "      <td>SAL</td>\n",
       "      <td>SV</td>\n",
       "      <td>SAL</td>\n",
       "      <td>SAL</td>\n",
       "      <td>SV</td>\n",
       "      <td>CLT</td>\n",
       "      <td>CLT</td>\n",
       "      <td>US</td>\n",
       "      <td>CLTSAL</td>\n",
       "      <td>CLTSAL</td>\n",
       "      <td>SVUS</td>\n",
       "      <td>1</td>\n",
       "      <td>SALATLCLT</td>\n",
       "      <td>NV</td>\n",
       "      <td>L</td>\n",
       "      <td>Y</td>\n",
       "      <td>2013-04-12 13:04:00</td>\n",
       "      <td>2013-04-12 22:05:40</td>\n",
       "      <td>1</td>\n",
       "      <td>2013</td>\n",
       "      <td>3</td>\n",
       "      <td>NULL</td>\n",
       "    </tr>\n",
       "    <tr>\n",
       "      <td>2</td>\n",
       "      <td>2013-03-26 00:00:00</td>\n",
       "      <td>1A</td>\n",
       "      <td>US</td>\n",
       "      <td>e612b9eeeee6f17f42d9b0d3b79e75ca</td>\n",
       "      <td>7437560d8f276d6d05eeb806d9e7edee</td>\n",
       "      <td>737295a86982c941f1c2da9a46a14043</td>\n",
       "      <td>2013-03-26 00:00:00</td>\n",
       "      <td>135270</td>\n",
       "      <td>0</td>\n",
       "      <td>SAL</td>\n",
       "      <td>SAL</td>\n",
       "      <td>SV</td>\n",
       "      <td>CLT</td>\n",
       "      <td>CLT</td>\n",
       "      <td>US</td>\n",
       "      <td>SAL</td>\n",
       "      <td>SAL</td>\n",
       "      <td>SV</td>\n",
       "      <td>CLT</td>\n",
       "      <td>CLT</td>\n",
       "      <td>US</td>\n",
       "      <td>SAL</td>\n",
       "      <td>SAL</td>\n",
       "      <td>SV</td>\n",
       "      <td>CLTSAL</td>\n",
       "      <td>CLTSAL</td>\n",
       "      <td>SVUS</td>\n",
       "      <td>1</td>\n",
       "      <td>CLTATLSAL</td>\n",
       "      <td>NV</td>\n",
       "      <td>U</td>\n",
       "      <td>Y</td>\n",
       "      <td>2013-07-15 07:00:00</td>\n",
       "      <td>2013-07-15 11:34:51</td>\n",
       "      <td>1</td>\n",
       "      <td>2013</td>\n",
       "      <td>3</td>\n",
       "      <td>NULL</td>\n",
       "    </tr>\n",
       "    <tr>\n",
       "      <td>3</td>\n",
       "      <td>2013-03-26 00:00:00</td>\n",
       "      <td>1A</td>\n",
       "      <td>AU</td>\n",
       "      <td>0f984b3bb6bd06661c95529bbd6193bc</td>\n",
       "      <td>36472c6dbaf7afec9136ac40364e2794</td>\n",
       "      <td>5ecf00fdcbcec761c43dc7285253d0c1</td>\n",
       "      <td>2013-03-26 00:00:00</td>\n",
       "      <td>30885</td>\n",
       "      <td>0</td>\n",
       "      <td>AKL</td>\n",
       "      <td>AKL</td>\n",
       "      <td>NZ</td>\n",
       "      <td>SVO</td>\n",
       "      <td>MOW</td>\n",
       "      <td>RU</td>\n",
       "      <td>AKL</td>\n",
       "      <td>AKL</td>\n",
       "      <td>NZ</td>\n",
       "      <td>AKL</td>\n",
       "      <td>AKL</td>\n",
       "      <td>NZ</td>\n",
       "      <td>SVO</td>\n",
       "      <td>MOW</td>\n",
       "      <td>RU</td>\n",
       "      <td>AKLSVO</td>\n",
       "      <td>AKLMOW</td>\n",
       "      <td>NZRU</td>\n",
       "      <td>1</td>\n",
       "      <td>AKLHKGSVO</td>\n",
       "      <td>XK</td>\n",
       "      <td>G</td>\n",
       "      <td>Y</td>\n",
       "      <td>2013-04-24 23:59:00</td>\n",
       "      <td>2013-04-25 16:06:31</td>\n",
       "      <td>1</td>\n",
       "      <td>2013</td>\n",
       "      <td>3</td>\n",
       "      <td>SYDA82546</td>\n",
       "    </tr>\n",
       "    <tr>\n",
       "      <td>4</td>\n",
       "      <td>2013-03-26 00:00:00</td>\n",
       "      <td>1A</td>\n",
       "      <td>AU</td>\n",
       "      <td>0f984b3bb6bd06661c95529bbd6193bc</td>\n",
       "      <td>36472c6dbaf7afec9136ac40364e2794</td>\n",
       "      <td>5ecf00fdcbcec761c43dc7285253d0c1</td>\n",
       "      <td>2013-03-26 00:00:00</td>\n",
       "      <td>30885</td>\n",
       "      <td>0</td>\n",
       "      <td>AKL</td>\n",
       "      <td>AKL</td>\n",
       "      <td>NZ</td>\n",
       "      <td>SVO</td>\n",
       "      <td>MOW</td>\n",
       "      <td>RU</td>\n",
       "      <td>AKL</td>\n",
       "      <td>AKL</td>\n",
       "      <td>NZ</td>\n",
       "      <td>SVO</td>\n",
       "      <td>MOW</td>\n",
       "      <td>RU</td>\n",
       "      <td>AKL</td>\n",
       "      <td>AKL</td>\n",
       "      <td>NZ</td>\n",
       "      <td>AKLSVO</td>\n",
       "      <td>AKLMOW</td>\n",
       "      <td>NZRU</td>\n",
       "      <td>1</td>\n",
       "      <td>SVOHKGAKL</td>\n",
       "      <td>XK</td>\n",
       "      <td>G</td>\n",
       "      <td>Y</td>\n",
       "      <td>2013-05-14 20:15:00</td>\n",
       "      <td>2013-05-16 10:44:50</td>\n",
       "      <td>1</td>\n",
       "      <td>2013</td>\n",
       "      <td>3</td>\n",
       "      <td>SYDA82546</td>\n",
       "    </tr>\n",
       "  </tbody>\n",
       "</table>\n",
       "</div>"
      ],
      "text/plain": [
       "   act_date             source  pos_ctry                          pos_iata  \\\n",
       "0  2013-03-05 00:00:00  1A      DE        a68dd7ae953c8acfb187a1af2dcbe123   \n",
       "1  2013-03-26 00:00:00  1A      US        e612b9eeeee6f17f42d9b0d3b79e75ca   \n",
       "2  2013-03-26 00:00:00  1A      US        e612b9eeeee6f17f42d9b0d3b79e75ca   \n",
       "3  2013-03-26 00:00:00  1A      AU        0f984b3bb6bd06661c95529bbd6193bc   \n",
       "4  2013-03-26 00:00:00  1A      AU        0f984b3bb6bd06661c95529bbd6193bc   \n",
       "\n",
       "                          pos_oid                      rloc            \\\n",
       "0  1a11ae49fcbf545fd2afc1a24d88d2b7  ea65900e72d71f4626378e2ebd298267   \n",
       "1  7437560d8f276d6d05eeb806d9e7edee  737295a86982c941f1c2da9a46a14043   \n",
       "2  7437560d8f276d6d05eeb806d9e7edee  737295a86982c941f1c2da9a46a14043   \n",
       "3  36472c6dbaf7afec9136ac40364e2794  5ecf00fdcbcec761c43dc7285253d0c1   \n",
       "4  36472c6dbaf7afec9136ac40364e2794  5ecf00fdcbcec761c43dc7285253d0c1   \n",
       "\n",
       "   cre_date             duration  distance  dep_port  dep_city  dep_ctry  \\\n",
       "0  2013-02-22 00:00:00      1708         0  ZRH       ZRH       CH         \n",
       "1  2013-03-26 00:00:00    135270         0  SAL       SAL       SV         \n",
       "2  2013-03-26 00:00:00    135270         0  SAL       SAL       SV         \n",
       "3  2013-03-26 00:00:00     30885         0  AKL       AKL       NZ         \n",
       "4  2013-03-26 00:00:00     30885         0  AKL       AKL       NZ         \n",
       "\n",
       "   arr_port  arr_city  arr_ctry  lst_port  lst_city  lst_ctry  brd_port  \\\n",
       "0  LHR       LON       GB        ZRH       ZRH       CH        LHR        \n",
       "1  CLT       CLT       US        SAL       SAL       SV        SAL        \n",
       "2  CLT       CLT       US        SAL       SAL       SV        CLT        \n",
       "3  SVO       MOW       RU        AKL       AKL       NZ        AKL        \n",
       "4  SVO       MOW       RU        AKL       AKL       NZ        SVO        \n",
       "\n",
       "   brd_city  brd_ctry  off_port  off_city  off_ctry  mkt_port  mkt_city  \\\n",
       "0  LON       GB        ZRH       ZRH       CH        LHRZRH    LONZRH     \n",
       "1  SAL       SV        CLT       CLT       US        CLTSAL    CLTSAL     \n",
       "2  CLT       US        SAL       SAL       SV        CLTSAL    CLTSAL     \n",
       "3  AKL       NZ        SVO       MOW       RU        AKLSVO    AKLMOW     \n",
       "4  MOW       RU        AKL       AKL       NZ        AKLSVO    AKLMOW     \n",
       "\n",
       "   mkt_ctry  intl  route           carrier  bkg_class  cab_class  \\\n",
       "0  CHGB         1  LHRZRH               VI  T          Y           \n",
       "1  SVUS         1  SALATLCLT            NV  L          Y           \n",
       "2  SVUS         1  CLTATLSAL            NV  U          Y           \n",
       "3  NZRU         1  AKLHKGSVO            XK  G          Y           \n",
       "4  NZRU         1  SVOHKGAKL            XK  G          Y           \n",
       "\n",
       "   brd_time             off_time             pax  year  month  oid        \n",
       "0  2013-03-07 08:50:00  2013-03-07 11:33:37   -1  2013      3  NULL       \n",
       "1  2013-04-12 13:04:00  2013-04-12 22:05:40    1  2013      3  NULL       \n",
       "2  2013-07-15 07:00:00  2013-07-15 11:34:51    1  2013      3  NULL       \n",
       "3  2013-04-24 23:59:00  2013-04-25 16:06:31    1  2013      3  SYDA82546  \n",
       "4  2013-05-14 20:15:00  2013-05-16 10:44:50    1  2013      3  SYDA82546  "
      ]
     },
     "execution_count": 41,
     "metadata": {},
     "output_type": "execute_result"
    }
   ],
   "source": [
    "b.head()"
   ]
  },
  {
   "cell_type": "code",
   "execution_count": 40,
   "metadata": {},
   "outputs": [],
   "source": [
    "#para poder ver todas las columnas\n",
    "pd.set_option('display.max_columns', None)"
   ]
  },
  {
   "cell_type": "code",
   "execution_count": 42,
   "metadata": {},
   "outputs": [
    {
     "data": {
      "text/html": [
       "<div>\n",
       "<style scoped>\n",
       "    .dataframe tbody tr th:only-of-type {\n",
       "        vertical-align: middle;\n",
       "    }\n",
       "\n",
       "    .dataframe tbody tr th {\n",
       "        vertical-align: top;\n",
       "    }\n",
       "\n",
       "    .dataframe thead th {\n",
       "        text-align: right;\n",
       "    }\n",
       "</style>\n",
       "<table border=\"1\" class=\"dataframe\">\n",
       "  <thead>\n",
       "    <tr style=\"text-align: right;\">\n",
       "      <th></th>\n",
       "      <th>act_date</th>\n",
       "      <th>source</th>\n",
       "      <th>pos_ctry</th>\n",
       "      <th>pos_iata</th>\n",
       "      <th>pos_oid</th>\n",
       "      <th>rloc</th>\n",
       "      <th>cre_date</th>\n",
       "      <th>duration</th>\n",
       "      <th>distance</th>\n",
       "      <th>dep_port</th>\n",
       "      <th>dep_city</th>\n",
       "      <th>dep_ctry</th>\n",
       "      <th>arr_port</th>\n",
       "      <th>arr_city</th>\n",
       "      <th>arr_ctry</th>\n",
       "      <th>lst_port</th>\n",
       "      <th>lst_city</th>\n",
       "      <th>lst_ctry</th>\n",
       "      <th>brd_port</th>\n",
       "      <th>brd_city</th>\n",
       "      <th>brd_ctry</th>\n",
       "      <th>off_port</th>\n",
       "      <th>off_city</th>\n",
       "      <th>off_ctry</th>\n",
       "      <th>mkt_port</th>\n",
       "      <th>mkt_city</th>\n",
       "      <th>mkt_ctry</th>\n",
       "      <th>intl</th>\n",
       "      <th>route</th>\n",
       "      <th>carrier</th>\n",
       "      <th>bkg_class</th>\n",
       "      <th>cab_class</th>\n",
       "      <th>brd_time</th>\n",
       "      <th>off_time</th>\n",
       "      <th>pax</th>\n",
       "      <th>year</th>\n",
       "      <th>month</th>\n",
       "      <th>oid</th>\n",
       "    </tr>\n",
       "  </thead>\n",
       "  <tbody>\n",
       "    <tr>\n",
       "      <td>7196</td>\n",
       "      <td>2013-03-27 00:00:00</td>\n",
       "      <td>1A</td>\n",
       "      <td>DE</td>\n",
       "      <td>dc69d5fe1e426149f3dd56d6b7ad05a1</td>\n",
       "      <td>2050baa63329eca6f782c7ab90ccf561</td>\n",
       "      <td>333d8006b3c060246e112611baed59e4</td>\n",
       "      <td>2013-03-27 00:00:00</td>\n",
       "      <td>7488</td>\n",
       "      <td>0</td>\n",
       "      <td>STR</td>\n",
       "      <td>STR</td>\n",
       "      <td>DE</td>\n",
       "      <td>PMI</td>\n",
       "      <td>PMI</td>\n",
       "      <td>ES</td>\n",
       "      <td>STR</td>\n",
       "      <td>STR</td>\n",
       "      <td>DE</td>\n",
       "      <td>STR</td>\n",
       "      <td>STR</td>\n",
       "      <td>DE</td>\n",
       "      <td>PMI</td>\n",
       "      <td>PMI</td>\n",
       "      <td>ES</td>\n",
       "      <td>PMISTR</td>\n",
       "      <td>PMISTR</td>\n",
       "      <td>DEES</td>\n",
       "      <td>1</td>\n",
       "      <td>STRPMI</td>\n",
       "      <td>KL</td>\n",
       "      <td>W</td>\n",
       "      <td>Y</td>\n",
       "      <td>2013-04-03 12:20:00</td>\n",
       "      <td>2013-04-03 14:28:23</td>\n",
       "      <td>2</td>\n",
       "      <td>2013</td>\n",
       "      <td>3</td>\n",
       "      <td>NULL</td>\n",
       "    </tr>\n",
       "    <tr>\n",
       "      <td>6142</td>\n",
       "      <td>2013-03-18 00:00:00</td>\n",
       "      <td>1G</td>\n",
       "      <td>NL</td>\n",
       "      <td>eb93d167ae132a6d7094f2a305724a42</td>\n",
       "      <td>8f3ef1041a50b8c7aaffac81c2c14887</td>\n",
       "      <td>218a6f20b85426823cd4092e7e74c309</td>\n",
       "      <td>2013-03-04 00:00:00</td>\n",
       "      <td>5741</td>\n",
       "      <td>0</td>\n",
       "      <td>AMS</td>\n",
       "      <td>AMS</td>\n",
       "      <td>NL</td>\n",
       "      <td>WUH</td>\n",
       "      <td>WUH</td>\n",
       "      <td>CN</td>\n",
       "      <td>AMS</td>\n",
       "      <td>AMS</td>\n",
       "      <td>NL</td>\n",
       "      <td>WUH</td>\n",
       "      <td>WUH</td>\n",
       "      <td>CN</td>\n",
       "      <td>DLC</td>\n",
       "      <td>DLC</td>\n",
       "      <td>CN</td>\n",
       "      <td>DLCWUH</td>\n",
       "      <td>DLCWUH</td>\n",
       "      <td>CNCN</td>\n",
       "      <td>0</td>\n",
       "      <td>WUHPVGDLC</td>\n",
       "      <td>WF</td>\n",
       "      <td>Y</td>\n",
       "      <td>Y</td>\n",
       "      <td>2013-03-21 08:00:00</td>\n",
       "      <td>2013-03-21 12:54:22</td>\n",
       "      <td>1</td>\n",
       "      <td>2013</td>\n",
       "      <td>3</td>\n",
       "      <td>NULL</td>\n",
       "    </tr>\n",
       "    <tr>\n",
       "      <td>2333</td>\n",
       "      <td>2013-03-25 00:00:00</td>\n",
       "      <td>1S</td>\n",
       "      <td>US</td>\n",
       "      <td>724ca60bea4f79479d3189a9ac8c56b3</td>\n",
       "      <td>189ccb3c15d055be3d98186b8cb3d11d</td>\n",
       "      <td>e0d61c982b3a02274c8b805b1c87ba8d</td>\n",
       "      <td>2013-03-22 00:00:00</td>\n",
       "      <td>11152</td>\n",
       "      <td>0</td>\n",
       "      <td>JFK</td>\n",
       "      <td>NYC</td>\n",
       "      <td>US</td>\n",
       "      <td>PEK</td>\n",
       "      <td>BJS</td>\n",
       "      <td>CN</td>\n",
       "      <td>JFK</td>\n",
       "      <td>NYC</td>\n",
       "      <td>US</td>\n",
       "      <td>JFK</td>\n",
       "      <td>NYC</td>\n",
       "      <td>US</td>\n",
       "      <td>PEK</td>\n",
       "      <td>BJS</td>\n",
       "      <td>CN</td>\n",
       "      <td>JFKPEK</td>\n",
       "      <td>BJSNYC</td>\n",
       "      <td>CNUS</td>\n",
       "      <td>1</td>\n",
       "      <td>JFKPEK</td>\n",
       "      <td>MK</td>\n",
       "      <td>H</td>\n",
       "      <td>Y</td>\n",
       "      <td>2013-03-26 16:50:00</td>\n",
       "      <td>2013-03-27 18:32:27</td>\n",
       "      <td>1</td>\n",
       "      <td>2013</td>\n",
       "      <td>3</td>\n",
       "      <td>NULL</td>\n",
       "    </tr>\n",
       "    <tr>\n",
       "      <td>5623</td>\n",
       "      <td>2013-03-27 00:00:00</td>\n",
       "      <td>1A</td>\n",
       "      <td>RU</td>\n",
       "      <td>4efbb41b0ec404a9c59e0283eb7f118a</td>\n",
       "      <td>8f76520db6a5a0a23049a014febfce10</td>\n",
       "      <td>2c215fd0416b383d9f55968f8301e1d4</td>\n",
       "      <td>2013-03-27 00:00:00</td>\n",
       "      <td>840</td>\n",
       "      <td>0</td>\n",
       "      <td>LED</td>\n",
       "      <td>LED</td>\n",
       "      <td>RU</td>\n",
       "      <td>SVO</td>\n",
       "      <td>MOW</td>\n",
       "      <td>RU</td>\n",
       "      <td>LED</td>\n",
       "      <td>LED</td>\n",
       "      <td>RU</td>\n",
       "      <td>LED</td>\n",
       "      <td>LED</td>\n",
       "      <td>RU</td>\n",
       "      <td>SVO</td>\n",
       "      <td>MOW</td>\n",
       "      <td>RU</td>\n",
       "      <td>LEDSVO</td>\n",
       "      <td>LEDMOW</td>\n",
       "      <td>RURU</td>\n",
       "      <td>0</td>\n",
       "      <td>LEDSVO</td>\n",
       "      <td>DF</td>\n",
       "      <td>H</td>\n",
       "      <td>Y</td>\n",
       "      <td>2013-03-28 08:55:00</td>\n",
       "      <td>2013-03-28 10:25:16</td>\n",
       "      <td>1</td>\n",
       "      <td>2013</td>\n",
       "      <td>3</td>\n",
       "      <td>NULL</td>\n",
       "    </tr>\n",
       "    <tr>\n",
       "      <td>7104</td>\n",
       "      <td>2013-03-11 00:00:00</td>\n",
       "      <td>1A</td>\n",
       "      <td>PE</td>\n",
       "      <td>48945826843ab0df4f05d161906688e4</td>\n",
       "      <td>4cd8ec7e1c93f7c443b9c85b2cd875ce</td>\n",
       "      <td>792e9cb68da605dde6e191d54063c94d</td>\n",
       "      <td>2013-03-11 00:00:00</td>\n",
       "      <td>2967</td>\n",
       "      <td>0</td>\n",
       "      <td>LIM</td>\n",
       "      <td>LIM</td>\n",
       "      <td>PE</td>\n",
       "      <td>AQP</td>\n",
       "      <td>AQP</td>\n",
       "      <td>PE</td>\n",
       "      <td>LIM</td>\n",
       "      <td>LIM</td>\n",
       "      <td>PE</td>\n",
       "      <td>AQP</td>\n",
       "      <td>AQP</td>\n",
       "      <td>PE</td>\n",
       "      <td>LIM</td>\n",
       "      <td>LIM</td>\n",
       "      <td>PE</td>\n",
       "      <td>AQPLIM</td>\n",
       "      <td>AQPLIM</td>\n",
       "      <td>PEPE</td>\n",
       "      <td>0</td>\n",
       "      <td>AQPLIM</td>\n",
       "      <td>VK</td>\n",
       "      <td>S</td>\n",
       "      <td>Y</td>\n",
       "      <td>2013-03-26 18:30:00</td>\n",
       "      <td>2013-03-26 20:12:00</td>\n",
       "      <td>1</td>\n",
       "      <td>2013</td>\n",
       "      <td>3</td>\n",
       "      <td>NULL</td>\n",
       "    </tr>\n",
       "  </tbody>\n",
       "</table>\n",
       "</div>"
      ],
      "text/plain": [
       "      act_date             source  pos_ctry                          pos_iata  \\\n",
       "7196  2013-03-27 00:00:00  1A      DE        dc69d5fe1e426149f3dd56d6b7ad05a1   \n",
       "6142  2013-03-18 00:00:00  1G      NL        eb93d167ae132a6d7094f2a305724a42   \n",
       "2333  2013-03-25 00:00:00  1S      US        724ca60bea4f79479d3189a9ac8c56b3   \n",
       "5623  2013-03-27 00:00:00  1A      RU        4efbb41b0ec404a9c59e0283eb7f118a   \n",
       "7104  2013-03-11 00:00:00  1A      PE        48945826843ab0df4f05d161906688e4   \n",
       "\n",
       "                             pos_oid                      rloc            \\\n",
       "7196  2050baa63329eca6f782c7ab90ccf561  333d8006b3c060246e112611baed59e4   \n",
       "6142  8f3ef1041a50b8c7aaffac81c2c14887  218a6f20b85426823cd4092e7e74c309   \n",
       "2333  189ccb3c15d055be3d98186b8cb3d11d  e0d61c982b3a02274c8b805b1c87ba8d   \n",
       "5623  8f76520db6a5a0a23049a014febfce10  2c215fd0416b383d9f55968f8301e1d4   \n",
       "7104  4cd8ec7e1c93f7c443b9c85b2cd875ce  792e9cb68da605dde6e191d54063c94d   \n",
       "\n",
       "      cre_date             duration  distance  dep_port  dep_city  dep_ctry  \\\n",
       "7196  2013-03-27 00:00:00      7488         0  STR       STR       DE         \n",
       "6142  2013-03-04 00:00:00      5741         0  AMS       AMS       NL         \n",
       "2333  2013-03-22 00:00:00     11152         0  JFK       NYC       US         \n",
       "5623  2013-03-27 00:00:00       840         0  LED       LED       RU         \n",
       "7104  2013-03-11 00:00:00      2967         0  LIM       LIM       PE         \n",
       "\n",
       "      arr_port  arr_city  arr_ctry  lst_port  lst_city  lst_ctry  brd_port  \\\n",
       "7196  PMI       PMI       ES        STR       STR       DE        STR        \n",
       "6142  WUH       WUH       CN        AMS       AMS       NL        WUH        \n",
       "2333  PEK       BJS       CN        JFK       NYC       US        JFK        \n",
       "5623  SVO       MOW       RU        LED       LED       RU        LED        \n",
       "7104  AQP       AQP       PE        LIM       LIM       PE        AQP        \n",
       "\n",
       "      brd_city  brd_ctry  off_port  off_city  off_ctry  mkt_port  mkt_city  \\\n",
       "7196  STR       DE        PMI       PMI       ES        PMISTR    PMISTR     \n",
       "6142  WUH       CN        DLC       DLC       CN        DLCWUH    DLCWUH     \n",
       "2333  NYC       US        PEK       BJS       CN        JFKPEK    BJSNYC     \n",
       "5623  LED       RU        SVO       MOW       RU        LEDSVO    LEDMOW     \n",
       "7104  AQP       PE        LIM       LIM       PE        AQPLIM    AQPLIM     \n",
       "\n",
       "      mkt_ctry  intl route           carrier  bkg_class  cab_class  \\\n",
       "7196  DEES         1    STRPMI            KL  W          Y           \n",
       "6142  CNCN         0    WUHPVGDLC         WF  Y          Y           \n",
       "2333  CNUS         1    JFKPEK            MK  H          Y           \n",
       "5623  RURU         0    LEDSVO            DF  H          Y           \n",
       "7104  PEPE         0    AQPLIM            VK  S          Y           \n",
       "\n",
       "      brd_time             off_time             pax  year  month  oid        \n",
       "7196  2013-04-03 12:20:00  2013-04-03 14:28:23    2  2013      3  NULL       \n",
       "6142  2013-03-21 08:00:00  2013-03-21 12:54:22    1  2013      3  NULL       \n",
       "2333  2013-03-26 16:50:00  2013-03-27 18:32:27    1  2013      3  NULL       \n",
       "5623  2013-03-28 08:55:00  2013-03-28 10:25:16    1  2013      3  NULL       \n",
       "7104  2013-03-26 18:30:00  2013-03-26 20:12:00    1  2013      3  NULL       "
      ]
     },
     "execution_count": 42,
     "metadata": {},
     "output_type": "execute_result"
    }
   ],
   "source": [
    "b.sample(5)"
   ]
  },
  {
   "cell_type": "code",
   "execution_count": 43,
   "metadata": {},
   "outputs": [
    {
     "data": {
      "text/plain": [
       "act_date               object\n",
       "source                 object\n",
       "pos_ctry               object\n",
       "pos_iata               object\n",
       "pos_oid                object\n",
       "rloc                   object\n",
       "cre_date               object\n",
       "duration                int64\n",
       "distance                int64\n",
       "dep_port               object\n",
       "dep_city               object\n",
       "dep_ctry               object\n",
       "arr_port               object\n",
       "arr_city               object\n",
       "arr_ctry               object\n",
       "lst_port               object\n",
       "lst_city               object\n",
       "lst_ctry               object\n",
       "brd_port               object\n",
       "brd_city               object\n",
       "brd_ctry               object\n",
       "off_port               object\n",
       "off_city               object\n",
       "off_ctry               object\n",
       "mkt_port               object\n",
       "mkt_city               object\n",
       "mkt_ctry               object\n",
       "intl                    int64\n",
       "route                  object\n",
       "carrier                object\n",
       "bkg_class              object\n",
       "cab_class              object\n",
       "brd_time               object\n",
       "off_time               object\n",
       "pax                     int64\n",
       "year                    int64\n",
       "month                   int64\n",
       "oid                    object\n",
       "dtype: object"
      ]
     },
     "execution_count": 43,
     "metadata": {},
     "output_type": "execute_result"
    }
   ],
   "source": [
    "#Vemos los tipos de las columns\n",
    "b.dtypes"
   ]
  },
  {
   "cell_type": "code",
   "execution_count": 44,
   "metadata": {},
   "outputs": [
    {
     "data": {
      "text/html": [
       "<div>\n",
       "<style scoped>\n",
       "    .dataframe tbody tr th:only-of-type {\n",
       "        vertical-align: middle;\n",
       "    }\n",
       "\n",
       "    .dataframe tbody tr th {\n",
       "        vertical-align: top;\n",
       "    }\n",
       "\n",
       "    .dataframe thead th {\n",
       "        text-align: right;\n",
       "    }\n",
       "</style>\n",
       "<table border=\"1\" class=\"dataframe\">\n",
       "  <thead>\n",
       "    <tr style=\"text-align: right;\">\n",
       "      <th></th>\n",
       "      <th>duration</th>\n",
       "      <th>distance</th>\n",
       "      <th>intl</th>\n",
       "      <th>pax</th>\n",
       "      <th>year</th>\n",
       "      <th>month</th>\n",
       "    </tr>\n",
       "  </thead>\n",
       "  <tbody>\n",
       "    <tr>\n",
       "      <td>count</td>\n",
       "      <td>9999.000000</td>\n",
       "      <td>9999.000000</td>\n",
       "      <td>9999.000000</td>\n",
       "      <td>9999.000000</td>\n",
       "      <td>9999.0</td>\n",
       "      <td>9999.0</td>\n",
       "    </tr>\n",
       "    <tr>\n",
       "      <td>mean</td>\n",
       "      <td>20209.746075</td>\n",
       "      <td>455.608861</td>\n",
       "      <td>0.596260</td>\n",
       "      <td>0.516152</td>\n",
       "      <td>2013.0</td>\n",
       "      <td>3.0</td>\n",
       "    </tr>\n",
       "    <tr>\n",
       "      <td>std</td>\n",
       "      <td>42243.233482</td>\n",
       "      <td>1738.891068</td>\n",
       "      <td>0.490671</td>\n",
       "      <td>1.783970</td>\n",
       "      <td>0.0</td>\n",
       "      <td>0.0</td>\n",
       "    </tr>\n",
       "    <tr>\n",
       "      <td>min</td>\n",
       "      <td>59.000000</td>\n",
       "      <td>0.000000</td>\n",
       "      <td>0.000000</td>\n",
       "      <td>-25.000000</td>\n",
       "      <td>2013.0</td>\n",
       "      <td>3.0</td>\n",
       "    </tr>\n",
       "    <tr>\n",
       "      <td>25%</td>\n",
       "      <td>3339.000000</td>\n",
       "      <td>0.000000</td>\n",
       "      <td>0.000000</td>\n",
       "      <td>-1.000000</td>\n",
       "      <td>2013.0</td>\n",
       "      <td>3.0</td>\n",
       "    </tr>\n",
       "    <tr>\n",
       "      <td>50%</td>\n",
       "      <td>7721.000000</td>\n",
       "      <td>0.000000</td>\n",
       "      <td>1.000000</td>\n",
       "      <td>1.000000</td>\n",
       "      <td>2013.0</td>\n",
       "      <td>3.0</td>\n",
       "    </tr>\n",
       "    <tr>\n",
       "      <td>75%</td>\n",
       "      <td>19077.000000</td>\n",
       "      <td>0.000000</td>\n",
       "      <td>1.000000</td>\n",
       "      <td>1.000000</td>\n",
       "      <td>2013.0</td>\n",
       "      <td>3.0</td>\n",
       "    </tr>\n",
       "    <tr>\n",
       "      <td>max</td>\n",
       "      <td>488131.000000</td>\n",
       "      <td>18481.000000</td>\n",
       "      <td>1.000000</td>\n",
       "      <td>25.000000</td>\n",
       "      <td>2013.0</td>\n",
       "      <td>3.0</td>\n",
       "    </tr>\n",
       "  </tbody>\n",
       "</table>\n",
       "</div>"
      ],
      "text/plain": [
       "            duration      distance         intl          pax    year   month\n",
       "count    9999.000000   9999.000000  9999.000000  9999.000000  9999.0  9999.0\n",
       "mean    20209.746075    455.608861     0.596260     0.516152  2013.0     3.0\n",
       "std     42243.233482   1738.891068     0.490671     1.783970     0.0     0.0\n",
       "min        59.000000      0.000000     0.000000   -25.000000  2013.0     3.0\n",
       "25%      3339.000000      0.000000     0.000000    -1.000000  2013.0     3.0\n",
       "50%      7721.000000      0.000000     1.000000     1.000000  2013.0     3.0\n",
       "75%     19077.000000      0.000000     1.000000     1.000000  2013.0     3.0\n",
       "max    488131.000000  18481.000000     1.000000    25.000000  2013.0     3.0"
      ]
     },
     "execution_count": 44,
     "metadata": {},
     "output_type": "execute_result"
    }
   ],
   "source": [
    "b.describe()"
   ]
  },
  {
   "cell_type": "code",
   "execution_count": 45,
   "metadata": {},
   "outputs": [
    {
     "name": "stdout",
     "output_type": "stream",
     "text": [
      "<class 'pandas.core.frame.DataFrame'>\n",
      "RangeIndex: 9999 entries, 0 to 9998\n",
      "Data columns (total 38 columns):\n",
      "act_date               9999 non-null object\n",
      "source                 9999 non-null object\n",
      "pos_ctry               9999 non-null object\n",
      "pos_iata               9999 non-null object\n",
      "pos_oid                9999 non-null object\n",
      "rloc                   9999 non-null object\n",
      "cre_date               9999 non-null object\n",
      "duration               9999 non-null int64\n",
      "distance               9999 non-null int64\n",
      "dep_port               9999 non-null object\n",
      "dep_city               9999 non-null object\n",
      "dep_ctry               9999 non-null object\n",
      "arr_port               9999 non-null object\n",
      "arr_city               9999 non-null object\n",
      "arr_ctry               9999 non-null object\n",
      "lst_port               9999 non-null object\n",
      "lst_city               9999 non-null object\n",
      "lst_ctry               9999 non-null object\n",
      "brd_port               9999 non-null object\n",
      "brd_city               9999 non-null object\n",
      "brd_ctry               9999 non-null object\n",
      "off_port               9999 non-null object\n",
      "off_city               9999 non-null object\n",
      "off_ctry               9999 non-null object\n",
      "mkt_port               9999 non-null object\n",
      "mkt_city               9999 non-null object\n",
      "mkt_ctry               9999 non-null object\n",
      "intl                   9999 non-null int64\n",
      "route                  9999 non-null object\n",
      "carrier                9999 non-null object\n",
      "bkg_class              9999 non-null object\n",
      "cab_class              9999 non-null object\n",
      "brd_time               9999 non-null object\n",
      "off_time               9999 non-null object\n",
      "pax                    9999 non-null int64\n",
      "year                   9999 non-null int64\n",
      "month                  9999 non-null int64\n",
      "oid                    9999 non-null object\n",
      "dtypes: int64(6), object(32)\n",
      "memory usage: 2.9+ MB\n"
     ]
    }
   ],
   "source": [
    "#para ver si tenemos nulls\n",
    "b.info()"
   ]
  },
  {
   "cell_type": "code",
   "execution_count": 47,
   "metadata": {},
   "outputs": [
    {
     "name": "stdout",
     "output_type": "stream",
     "text": [
      "act_date           ^source^pos_ctry^pos_iata^pos_oid  ^rloc          ^cre_date           ^duration^distance^dep_port^dep_city^dep_ctry^arr_port^arr_city^arr_ctry^lst_port^lst_city^lst_ctry^brd_port^brd_city^brd_ctry^off_port^off_city^off_ctry^mkt_port^mkt_city^mkt_ctry^intl^route          ^carrier^bkg_class^cab_class^brd_time           ^off_time           ^pax^year^month^oid      \r\n",
      "2013-03-05 00:00:00^1A    ^DE      ^a68dd7ae953c8acfb187a1af2dcbe123^1a11ae49fcbf545fd2afc1a24d88d2b7^ea65900e72d71f4626378e2ebd298267^2013-02-22 00:00:00^1708^0^ZRH     ^ZRH     ^CH      ^LHR     ^LON     ^GB      ^ZRH     ^ZRH     ^CH      ^LHR     ^LON     ^GB      ^ZRH     ^ZRH     ^CH      ^LHRZRH  ^LONZRH  ^CHGB    ^1^LHRZRH         ^VI^T        ^Y        ^2013-03-07 08:50:00^2013-03-07 11:33:37^-1^2013^3^NULL     \r\n",
      "\r\n",
      "bzcat: I/O or other error, bailing out.  Possible reason follows.\r\n",
      "bzcat: Broken pipe\r\n",
      "\tInput file = ./bookings.sample.csv.bz2, output file = (stdout)\r\n"
     ]
    }
   ],
   "source": [
    "! bzcat ./bookings.sample.csv.bz2 | head -2"
   ]
  },
  {
   "cell_type": "code",
   "execution_count": 48,
   "metadata": {},
   "outputs": [
    {
     "data": {
      "text/plain": [
       "Index(['act_date           ', 'source', 'pos_ctry', 'pos_iata', 'pos_oid  ',\n",
       "       'rloc          ', 'cre_date           ', 'duration', 'distance',\n",
       "       'dep_port', 'dep_city', 'dep_ctry', 'arr_port', 'arr_city', 'arr_ctry',\n",
       "       'lst_port', 'lst_city', 'lst_ctry', 'brd_port', 'brd_city', 'brd_ctry',\n",
       "       'off_port', 'off_city', 'off_ctry', 'mkt_port', 'mkt_city', 'mkt_ctry',\n",
       "       'intl', 'route          ', 'carrier', 'bkg_class', 'cab_class',\n",
       "       'brd_time           ', 'off_time           ', 'pax', 'year', 'month',\n",
       "       'oid      '],\n",
       "      dtype='object')"
      ]
     },
     "execution_count": 48,
     "metadata": {},
     "output_type": "execute_result"
    }
   ],
   "source": [
    "b.columns"
   ]
  },
  {
   "cell_type": "code",
   "execution_count": 49,
   "metadata": {},
   "outputs": [
    {
     "data": {
      "text/plain": [
       "['act_date           ',\n",
       " 'source',\n",
       " 'pos_ctry',\n",
       " 'pos_iata',\n",
       " 'pos_oid  ',\n",
       " 'rloc          ',\n",
       " 'cre_date           ',\n",
       " 'duration',\n",
       " 'distance',\n",
       " 'dep_port',\n",
       " 'dep_city',\n",
       " 'dep_ctry',\n",
       " 'arr_port',\n",
       " 'arr_city',\n",
       " 'arr_ctry',\n",
       " 'lst_port',\n",
       " 'lst_city',\n",
       " 'lst_ctry',\n",
       " 'brd_port',\n",
       " 'brd_city',\n",
       " 'brd_ctry',\n",
       " 'off_port',\n",
       " 'off_city',\n",
       " 'off_ctry',\n",
       " 'mkt_port',\n",
       " 'mkt_city',\n",
       " 'mkt_ctry',\n",
       " 'intl',\n",
       " 'route          ',\n",
       " 'carrier',\n",
       " 'bkg_class',\n",
       " 'cab_class',\n",
       " 'brd_time           ',\n",
       " 'off_time           ',\n",
       " 'pax',\n",
       " 'year',\n",
       " 'month',\n",
       " 'oid      ']"
      ]
     },
     "execution_count": 49,
     "metadata": {},
     "output_type": "execute_result"
    }
   ],
   "source": [
    "#vemos q hay columnas con espacios en blanco\n",
    "list(b.columns)"
   ]
  },
  {
   "cell_type": "code",
   "execution_count": null,
   "metadata": {},
   "outputs": [],
   "source": [
    "#arreglamos el fichero pero no en el original si no que en lo que vamos a tratar pero lo haremos mas tarde"
   ]
  },
  {
   "cell_type": "markdown",
   "metadata": {},
   "source": [
    "## 2) Select the columns of interest"
   ]
  },
  {
   "cell_type": "code",
   "execution_count": null,
   "metadata": {},
   "outputs": [],
   "source": [
    "#las columnas q nos interesan son:"
   ]
  },
  {
   "cell_type": "code",
   "execution_count": 50,
   "metadata": {},
   "outputs": [],
   "source": [
    "import pandas as pd\n",
    "b= pd.read_csv('bookings.sample.csv.bz2', sep='^', usecols=['arr_port', 'pax', 'year'])"
   ]
  },
  {
   "cell_type": "code",
   "execution_count": 51,
   "metadata": {},
   "outputs": [
    {
     "data": {
      "text/html": [
       "<div>\n",
       "<style scoped>\n",
       "    .dataframe tbody tr th:only-of-type {\n",
       "        vertical-align: middle;\n",
       "    }\n",
       "\n",
       "    .dataframe tbody tr th {\n",
       "        vertical-align: top;\n",
       "    }\n",
       "\n",
       "    .dataframe thead th {\n",
       "        text-align: right;\n",
       "    }\n",
       "</style>\n",
       "<table border=\"1\" class=\"dataframe\">\n",
       "  <thead>\n",
       "    <tr style=\"text-align: right;\">\n",
       "      <th></th>\n",
       "      <th>arr_port</th>\n",
       "      <th>pax</th>\n",
       "      <th>year</th>\n",
       "    </tr>\n",
       "  </thead>\n",
       "  <tbody>\n",
       "    <tr>\n",
       "      <td>6522</td>\n",
       "      <td>MSY</td>\n",
       "      <td>1</td>\n",
       "      <td>2013</td>\n",
       "    </tr>\n",
       "    <tr>\n",
       "      <td>4728</td>\n",
       "      <td>ORD</td>\n",
       "      <td>-1</td>\n",
       "      <td>2013</td>\n",
       "    </tr>\n",
       "    <tr>\n",
       "      <td>8511</td>\n",
       "      <td>SEA</td>\n",
       "      <td>2</td>\n",
       "      <td>2013</td>\n",
       "    </tr>\n",
       "    <tr>\n",
       "      <td>7154</td>\n",
       "      <td>BGO</td>\n",
       "      <td>1</td>\n",
       "      <td>2013</td>\n",
       "    </tr>\n",
       "    <tr>\n",
       "      <td>1086</td>\n",
       "      <td>ANC</td>\n",
       "      <td>-1</td>\n",
       "      <td>2013</td>\n",
       "    </tr>\n",
       "  </tbody>\n",
       "</table>\n",
       "</div>"
      ],
      "text/plain": [
       "      arr_port  pax  year\n",
       "6522  MSY         1  2013\n",
       "4728  ORD        -1  2013\n",
       "8511  SEA         2  2013\n",
       "7154  BGO         1  2013\n",
       "1086  ANC        -1  2013"
      ]
     },
     "execution_count": 51,
     "metadata": {},
     "output_type": "execute_result"
    }
   ],
   "source": [
    "b.sample(5)"
   ]
  },
  {
   "cell_type": "markdown",
   "metadata": {},
   "source": [
    "## 3) What do we do with NaN?\n"
   ]
  },
  {
   "cell_type": "code",
   "execution_count": 52,
   "metadata": {},
   "outputs": [],
   "source": [
    "#si tenemos algun dato que nos falta eliminanos las filas q tienen nulls\n",
    "b=b.dropna()"
   ]
  },
  {
   "cell_type": "code",
   "execution_count": 53,
   "metadata": {},
   "outputs": [
    {
     "data": {
      "text/html": [
       "<div>\n",
       "<style scoped>\n",
       "    .dataframe tbody tr th:only-of-type {\n",
       "        vertical-align: middle;\n",
       "    }\n",
       "\n",
       "    .dataframe tbody tr th {\n",
       "        vertical-align: top;\n",
       "    }\n",
       "\n",
       "    .dataframe thead th {\n",
       "        text-align: right;\n",
       "    }\n",
       "</style>\n",
       "<table border=\"1\" class=\"dataframe\">\n",
       "  <thead>\n",
       "    <tr style=\"text-align: right;\">\n",
       "      <th></th>\n",
       "      <th>arr_port</th>\n",
       "      <th>pax</th>\n",
       "      <th>year</th>\n",
       "    </tr>\n",
       "  </thead>\n",
       "  <tbody>\n",
       "    <tr>\n",
       "      <td>8455</td>\n",
       "      <td>STS</td>\n",
       "      <td>-2</td>\n",
       "      <td>2013</td>\n",
       "    </tr>\n",
       "    <tr>\n",
       "      <td>7727</td>\n",
       "      <td>PVG</td>\n",
       "      <td>1</td>\n",
       "      <td>2013</td>\n",
       "    </tr>\n",
       "    <tr>\n",
       "      <td>8401</td>\n",
       "      <td>YYZ</td>\n",
       "      <td>1</td>\n",
       "      <td>2013</td>\n",
       "    </tr>\n",
       "    <tr>\n",
       "      <td>6837</td>\n",
       "      <td>DEL</td>\n",
       "      <td>1</td>\n",
       "      <td>2013</td>\n",
       "    </tr>\n",
       "    <tr>\n",
       "      <td>2779</td>\n",
       "      <td>DUB</td>\n",
       "      <td>-1</td>\n",
       "      <td>2013</td>\n",
       "    </tr>\n",
       "  </tbody>\n",
       "</table>\n",
       "</div>"
      ],
      "text/plain": [
       "      arr_port  pax  year\n",
       "8455  STS        -2  2013\n",
       "7727  PVG         1  2013\n",
       "8401  YYZ         1  2013\n",
       "6837  DEL         1  2013\n",
       "2779  DUB        -1  2013"
      ]
     },
     "execution_count": 53,
     "metadata": {},
     "output_type": "execute_result"
    }
   ],
   "source": [
    "b.sample(5)"
   ]
  },
  {
   "cell_type": "markdown",
   "metadata": {},
   "source": [
    "## 4) make action plan"
   ]
  },
  {
   "cell_type": "raw",
   "metadata": {},
   "source": [
    "0) filter 2013\n",
    "1) group by airpot\n",
    "2) sum\n",
    "3) sort by pax ascending false\n",
    "4) top10"
   ]
  },
  {
   "cell_type": "code",
   "execution_count": 67,
   "metadata": {},
   "outputs": [
    {
     "data": {
      "text/html": [
       "<div>\n",
       "<style scoped>\n",
       "    .dataframe tbody tr th:only-of-type {\n",
       "        vertical-align: middle;\n",
       "    }\n",
       "\n",
       "    .dataframe tbody tr th {\n",
       "        vertical-align: top;\n",
       "    }\n",
       "\n",
       "    .dataframe thead th {\n",
       "        text-align: right;\n",
       "    }\n",
       "</style>\n",
       "<table border=\"1\" class=\"dataframe\">\n",
       "  <thead>\n",
       "    <tr style=\"text-align: right;\">\n",
       "      <th></th>\n",
       "      <th>pax</th>\n",
       "    </tr>\n",
       "    <tr>\n",
       "      <th>arr_port</th>\n",
       "      <th></th>\n",
       "    </tr>\n",
       "  </thead>\n",
       "  <tbody>\n",
       "    <tr>\n",
       "      <td>HKG</td>\n",
       "      <td>112</td>\n",
       "    </tr>\n",
       "    <tr>\n",
       "      <td>LGA</td>\n",
       "      <td>95</td>\n",
       "    </tr>\n",
       "    <tr>\n",
       "      <td>ORD</td>\n",
       "      <td>94</td>\n",
       "    </tr>\n",
       "    <tr>\n",
       "      <td>JFK</td>\n",
       "      <td>92</td>\n",
       "    </tr>\n",
       "    <tr>\n",
       "      <td>LAX</td>\n",
       "      <td>91</td>\n",
       "    </tr>\n",
       "    <tr>\n",
       "      <td>SFO</td>\n",
       "      <td>91</td>\n",
       "    </tr>\n",
       "    <tr>\n",
       "      <td>MCO</td>\n",
       "      <td>90</td>\n",
       "    </tr>\n",
       "    <tr>\n",
       "      <td>DCA</td>\n",
       "      <td>82</td>\n",
       "    </tr>\n",
       "    <tr>\n",
       "      <td>DEN</td>\n",
       "      <td>79</td>\n",
       "    </tr>\n",
       "    <tr>\n",
       "      <td>LHR</td>\n",
       "      <td>76</td>\n",
       "    </tr>\n",
       "  </tbody>\n",
       "</table>\n",
       "</div>"
      ],
      "text/plain": [
       "          pax\n",
       "arr_port     \n",
       "HKG       112\n",
       "LGA        95\n",
       "ORD        94\n",
       "JFK        92\n",
       "LAX        91\n",
       "SFO        91\n",
       "MCO        90\n",
       "DCA        82\n",
       "DEN        79\n",
       "LHR        76"
      ]
     },
     "execution_count": 67,
     "metadata": {},
     "output_type": "execute_result"
    }
   ],
   "source": [
    "year_2013=b[b.year == 2013][['arr_port','pax']]\n",
    "max_airports = year_2013.groupby('arr_port').sum().sort_values('pax',ascending=False).head(10)\n",
    "max_airports\n"
   ]
  },
  {
   "cell_type": "code",
   "execution_count": 68,
   "metadata": {},
   "outputs": [],
   "source": [
    "#como el fichero original es muy grande una opcion es usar iteradores\n",
    "import pandas as pd\n",
    "b_iter = pd.read_csv('bookings.sample.csv.bz2', sep='^', usecols=['arr_port', 'pax', 'year'], iterator=True)"
   ]
  },
  {
   "cell_type": "code",
   "execution_count": 69,
   "metadata": {},
   "outputs": [
    {
     "data": {
      "text/plain": [
       "pandas.core.frame.DataFrame"
      ]
     },
     "execution_count": 69,
     "metadata": {},
     "output_type": "execute_result"
    }
   ],
   "source": [
    "type(b)"
   ]
  },
  {
   "cell_type": "code",
   "execution_count": 70,
   "metadata": {},
   "outputs": [
    {
     "data": {
      "text/plain": [
       "pandas.io.parsers.TextFileReader"
      ]
     },
     "execution_count": 70,
     "metadata": {},
     "output_type": "execute_result"
    }
   ],
   "source": [
    "type(b_iter)"
   ]
  },
  {
   "cell_type": "code",
   "execution_count": 71,
   "metadata": {},
   "outputs": [],
   "source": [
    "#Pedimos 3000 lineas al fichero solo\n",
    "b_chunk = b_iter.get_chunk(3000)"
   ]
  },
  {
   "cell_type": "code",
   "execution_count": 72,
   "metadata": {},
   "outputs": [
    {
     "data": {
      "text/plain": [
       "3000"
      ]
     },
     "execution_count": 72,
     "metadata": {},
     "output_type": "execute_result"
    }
   ],
   "source": [
    "len(b_chunk)"
   ]
  },
  {
   "cell_type": "code",
   "execution_count": 73,
   "metadata": {},
   "outputs": [
    {
     "data": {
      "text/plain": [
       "pandas.core.frame.DataFrame"
      ]
     },
     "execution_count": 73,
     "metadata": {},
     "output_type": "execute_result"
    }
   ],
   "source": [
    "type(b_chunk)"
   ]
  },
  {
   "cell_type": "code",
   "execution_count": 74,
   "metadata": {},
   "outputs": [],
   "source": [
    "#Con esto ya tenemos un dataframe con la longitud q le hemos pedido ya no es de tipo TextFileREader\n",
    "b_chunk = b_iter.get_chunk(300000)"
   ]
  },
  {
   "cell_type": "code",
   "execution_count": 75,
   "metadata": {},
   "outputs": [],
   "source": [
    "#si pedimos mas lineas de las que tiene no pasa nada. Devuelve todas las lineas y ya esta"
   ]
  },
  {
   "cell_type": "code",
   "execution_count": 76,
   "metadata": {},
   "outputs": [
    {
     "ename": "StopIteration",
     "evalue": "",
     "output_type": "error",
     "traceback": [
      "\u001b[0;31m---------------------------------------------------------------------------\u001b[0m",
      "\u001b[0;31mStopIteration\u001b[0m                             Traceback (most recent call last)",
      "\u001b[0;32m<ipython-input-76-eebafa91fda2>\u001b[0m in \u001b[0;36m<module>\u001b[0;34m\u001b[0m\n\u001b[0;32m----> 1\u001b[0;31m \u001b[0mb_chunk\u001b[0m \u001b[0;34m=\u001b[0m \u001b[0mb_iter\u001b[0m\u001b[0;34m.\u001b[0m\u001b[0mget_chunk\u001b[0m\u001b[0;34m(\u001b[0m\u001b[0;36m1\u001b[0m\u001b[0;34m)\u001b[0m\u001b[0;34m\u001b[0m\u001b[0;34m\u001b[0m\u001b[0m\n\u001b[0m",
      "\u001b[0;32m~/opt/anaconda3/lib/python3.7/site-packages/pandas/io/parsers.py\u001b[0m in \u001b[0;36mget_chunk\u001b[0;34m(self, size)\u001b[0m\n\u001b[1;32m   1186\u001b[0m                 \u001b[0;32mraise\u001b[0m \u001b[0mStopIteration\u001b[0m\u001b[0;34m\u001b[0m\u001b[0;34m\u001b[0m\u001b[0m\n\u001b[1;32m   1187\u001b[0m             \u001b[0msize\u001b[0m \u001b[0;34m=\u001b[0m \u001b[0mmin\u001b[0m\u001b[0;34m(\u001b[0m\u001b[0msize\u001b[0m\u001b[0;34m,\u001b[0m \u001b[0mself\u001b[0m\u001b[0;34m.\u001b[0m\u001b[0mnrows\u001b[0m \u001b[0;34m-\u001b[0m \u001b[0mself\u001b[0m\u001b[0;34m.\u001b[0m\u001b[0m_currow\u001b[0m\u001b[0;34m)\u001b[0m\u001b[0;34m\u001b[0m\u001b[0;34m\u001b[0m\u001b[0m\n\u001b[0;32m-> 1188\u001b[0;31m         \u001b[0;32mreturn\u001b[0m \u001b[0mself\u001b[0m\u001b[0;34m.\u001b[0m\u001b[0mread\u001b[0m\u001b[0;34m(\u001b[0m\u001b[0mnrows\u001b[0m\u001b[0;34m=\u001b[0m\u001b[0msize\u001b[0m\u001b[0;34m)\u001b[0m\u001b[0;34m\u001b[0m\u001b[0;34m\u001b[0m\u001b[0m\n\u001b[0m\u001b[1;32m   1189\u001b[0m \u001b[0;34m\u001b[0m\u001b[0m\n\u001b[1;32m   1190\u001b[0m \u001b[0;34m\u001b[0m\u001b[0m\n",
      "\u001b[0;32m~/opt/anaconda3/lib/python3.7/site-packages/pandas/io/parsers.py\u001b[0m in \u001b[0;36mread\u001b[0;34m(self, nrows)\u001b[0m\n\u001b[1;32m   1152\u001b[0m     \u001b[0;32mdef\u001b[0m \u001b[0mread\u001b[0m\u001b[0;34m(\u001b[0m\u001b[0mself\u001b[0m\u001b[0;34m,\u001b[0m \u001b[0mnrows\u001b[0m\u001b[0;34m=\u001b[0m\u001b[0;32mNone\u001b[0m\u001b[0;34m)\u001b[0m\u001b[0;34m:\u001b[0m\u001b[0;34m\u001b[0m\u001b[0;34m\u001b[0m\u001b[0m\n\u001b[1;32m   1153\u001b[0m         \u001b[0mnrows\u001b[0m \u001b[0;34m=\u001b[0m \u001b[0m_validate_integer\u001b[0m\u001b[0;34m(\u001b[0m\u001b[0;34m\"nrows\"\u001b[0m\u001b[0;34m,\u001b[0m \u001b[0mnrows\u001b[0m\u001b[0;34m)\u001b[0m\u001b[0;34m\u001b[0m\u001b[0;34m\u001b[0m\u001b[0m\n\u001b[0;32m-> 1154\u001b[0;31m         \u001b[0mret\u001b[0m \u001b[0;34m=\u001b[0m \u001b[0mself\u001b[0m\u001b[0;34m.\u001b[0m\u001b[0m_engine\u001b[0m\u001b[0;34m.\u001b[0m\u001b[0mread\u001b[0m\u001b[0;34m(\u001b[0m\u001b[0mnrows\u001b[0m\u001b[0;34m)\u001b[0m\u001b[0;34m\u001b[0m\u001b[0;34m\u001b[0m\u001b[0m\n\u001b[0m\u001b[1;32m   1155\u001b[0m \u001b[0;34m\u001b[0m\u001b[0m\n\u001b[1;32m   1156\u001b[0m         \u001b[0;31m# May alter columns / col_dict\u001b[0m\u001b[0;34m\u001b[0m\u001b[0;34m\u001b[0m\u001b[0;34m\u001b[0m\u001b[0m\n",
      "\u001b[0;32m~/opt/anaconda3/lib/python3.7/site-packages/pandas/io/parsers.py\u001b[0m in \u001b[0;36mread\u001b[0;34m(self, nrows)\u001b[0m\n\u001b[1;32m   2057\u001b[0m     \u001b[0;32mdef\u001b[0m \u001b[0mread\u001b[0m\u001b[0;34m(\u001b[0m\u001b[0mself\u001b[0m\u001b[0;34m,\u001b[0m \u001b[0mnrows\u001b[0m\u001b[0;34m=\u001b[0m\u001b[0;32mNone\u001b[0m\u001b[0;34m)\u001b[0m\u001b[0;34m:\u001b[0m\u001b[0;34m\u001b[0m\u001b[0;34m\u001b[0m\u001b[0m\n\u001b[1;32m   2058\u001b[0m         \u001b[0;32mtry\u001b[0m\u001b[0;34m:\u001b[0m\u001b[0;34m\u001b[0m\u001b[0;34m\u001b[0m\u001b[0m\n\u001b[0;32m-> 2059\u001b[0;31m             \u001b[0mdata\u001b[0m \u001b[0;34m=\u001b[0m \u001b[0mself\u001b[0m\u001b[0;34m.\u001b[0m\u001b[0m_reader\u001b[0m\u001b[0;34m.\u001b[0m\u001b[0mread\u001b[0m\u001b[0;34m(\u001b[0m\u001b[0mnrows\u001b[0m\u001b[0;34m)\u001b[0m\u001b[0;34m\u001b[0m\u001b[0;34m\u001b[0m\u001b[0m\n\u001b[0m\u001b[1;32m   2060\u001b[0m         \u001b[0;32mexcept\u001b[0m \u001b[0mStopIteration\u001b[0m\u001b[0;34m:\u001b[0m\u001b[0;34m\u001b[0m\u001b[0;34m\u001b[0m\u001b[0m\n\u001b[1;32m   2061\u001b[0m             \u001b[0;32mif\u001b[0m \u001b[0mself\u001b[0m\u001b[0;34m.\u001b[0m\u001b[0m_first_chunk\u001b[0m\u001b[0;34m:\u001b[0m\u001b[0;34m\u001b[0m\u001b[0;34m\u001b[0m\u001b[0m\n",
      "\u001b[0;32mpandas/_libs/parsers.pyx\u001b[0m in \u001b[0;36mpandas._libs.parsers.TextReader.read\u001b[0;34m()\u001b[0m\n",
      "\u001b[0;32mpandas/_libs/parsers.pyx\u001b[0m in \u001b[0;36mpandas._libs.parsers.TextReader._read_low_memory\u001b[0;34m()\u001b[0m\n",
      "\u001b[0;31mStopIteration\u001b[0m: "
     ]
    }
   ],
   "source": [
    "b_chunk = b_iter.get_chunk(1)\n",
    "#como ya hemos llegado al final si ahora pedimos una linea, d aun error porque ya estamos en el final"
   ]
  },
  {
   "cell_type": "code",
   "execution_count": 77,
   "metadata": {},
   "outputs": [],
   "source": [
    "b_iter = pd.read_csv('bookings.sample.csv.bz2', sep='^', usecols=['arr_port', 'pax', 'year'], chunksize=10)\n",
    "#con esto nos devuelve directamnete un dataframe con el numero de lineas que le hemos pedido"
   ]
  },
  {
   "cell_type": "code",
   "execution_count": 79,
   "metadata": {},
   "outputs": [
    {
     "name": "stdout",
     "output_type": "stream",
     "text": [
      "   arr_port  pax  year\n",
      "0  LHR        -1  2013\n",
      "1  CLT         1  2013\n",
      "2  CLT         1  2013\n",
      "3  SVO         1  2013\n",
      "4  SVO         1  2013\n",
      "..............\n",
      "    arr_port  pax  year\n",
      "10  SIN         2  2013\n",
      "11  SIN        -2  2013\n",
      "12  SIN        -2  2013\n",
      "13  SIN        -2  2013\n",
      "14  SIN        -2  2013\n",
      "..............\n",
      "    arr_port  pax  year\n",
      "20  CTA        -2  2013\n",
      "21  CTA         2  2013\n",
      "22  YWG         2  2013\n",
      "23  YWG         2  2013\n",
      "24  YWG        -2  2013\n",
      "..............\n",
      "    arr_port  pax  year\n",
      "30  PVG         2  2013\n",
      "31  PVG         2  2013\n",
      "32  PVG         2  2013\n",
      "33  SGC         1  2013\n",
      "34  ALG         1  2013\n",
      "..............\n"
     ]
    }
   ],
   "source": [
    "#podemos ir iterando sobre cada chunk y asi obtendremos todo el fichero para poder ir haciendo lo que queremos con el\n",
    "for i, b_chunk in enumerate(b_iter):\n",
    "  print(b_chunk.head(5))\n",
    "  print('..............')\n",
    "  if i==3:\n",
    "    break"
   ]
  },
  {
   "cell_type": "code",
   "execution_count": 110,
   "metadata": {},
   "outputs": [
    {
     "name": "stdout",
     "output_type": "stream",
     "text": [
      "0\n",
      "1\n",
      "2\n",
      "3\n"
     ]
    },
    {
     "data": {
      "text/html": [
       "<div>\n",
       "<style scoped>\n",
       "    .dataframe tbody tr th:only-of-type {\n",
       "        vertical-align: middle;\n",
       "    }\n",
       "\n",
       "    .dataframe tbody tr th {\n",
       "        vertical-align: top;\n",
       "    }\n",
       "\n",
       "    .dataframe thead th {\n",
       "        text-align: right;\n",
       "    }\n",
       "</style>\n",
       "<table border=\"1\" class=\"dataframe\">\n",
       "  <thead>\n",
       "    <tr style=\"text-align: right;\">\n",
       "      <th></th>\n",
       "      <th>pax</th>\n",
       "    </tr>\n",
       "    <tr>\n",
       "      <th>arr_port</th>\n",
       "      <th></th>\n",
       "    </tr>\n",
       "  </thead>\n",
       "  <tbody>\n",
       "    <tr>\n",
       "      <td>HKG</td>\n",
       "      <td>112</td>\n",
       "    </tr>\n",
       "    <tr>\n",
       "      <td>LGA</td>\n",
       "      <td>95</td>\n",
       "    </tr>\n",
       "    <tr>\n",
       "      <td>ORD</td>\n",
       "      <td>94</td>\n",
       "    </tr>\n",
       "    <tr>\n",
       "      <td>JFK</td>\n",
       "      <td>92</td>\n",
       "    </tr>\n",
       "    <tr>\n",
       "      <td>LAX</td>\n",
       "      <td>91</td>\n",
       "    </tr>\n",
       "    <tr>\n",
       "      <td>SFO</td>\n",
       "      <td>91</td>\n",
       "    </tr>\n",
       "    <tr>\n",
       "      <td>MCO</td>\n",
       "      <td>90</td>\n",
       "    </tr>\n",
       "    <tr>\n",
       "      <td>DCA</td>\n",
       "      <td>82</td>\n",
       "    </tr>\n",
       "    <tr>\n",
       "      <td>DEN</td>\n",
       "      <td>79</td>\n",
       "    </tr>\n",
       "    <tr>\n",
       "      <td>LHR</td>\n",
       "      <td>76</td>\n",
       "    </tr>\n",
       "  </tbody>\n",
       "</table>\n",
       "</div>"
      ],
      "text/plain": [
       "          pax\n",
       "arr_port     \n",
       "HKG       112\n",
       "LGA        95\n",
       "ORD        94\n",
       "JFK        92\n",
       "LAX        91\n",
       "SFO        91\n",
       "MCO        90\n",
       "DCA        82\n",
       "DEN        79\n",
       "LHR        76"
      ]
     },
     "execution_count": 110,
     "metadata": {},
     "output_type": "execute_result"
    }
   ],
   "source": [
    "#vamos a recorrrer todo el fichero y calcularlo sobre el total de trocito en trocito\n",
    "import pandas as pd\n",
    "b_iter = pd.read_csv('bookings.sample.csv.bz2', sep='^', usecols=['arr_port', 'pax', 'year'], chunksize=3000)\n",
    "all_chunks=pd.DataFrame()\n",
    "for i, b_chunk in enumerate(b_iter):\n",
    "    print(i)\n",
    "    b=b_chunk.dropna()\n",
    "    year_2013=b[b.year == 2013][['arr_port','pax']]\n",
    "    b = year_2013.groupby('arr_port').sum()\n",
    "    all_chunks=all_chunks.append(b)\n",
    "all_chunks.reset_index()\n",
    "all_chunks.groupby('arr_port').sum().sort_values('pax',ascending=False).head(10)\n",
    "#en teoria append es mas rapido q concat        \n"
   ]
  },
  {
   "cell_type": "code",
   "execution_count": 84,
   "metadata": {},
   "outputs": [
    {
     "data": {
      "text/plain": [
       "(1344, 1)"
      ]
     },
     "execution_count": 84,
     "metadata": {},
     "output_type": "execute_result"
    }
   ],
   "source": [
    "all_chunks.shape"
   ]
  },
  {
   "cell_type": "code",
   "execution_count": 85,
   "metadata": {},
   "outputs": [
    {
     "data": {
      "text/html": [
       "<div>\n",
       "<style scoped>\n",
       "    .dataframe tbody tr th:only-of-type {\n",
       "        vertical-align: middle;\n",
       "    }\n",
       "\n",
       "    .dataframe tbody tr th {\n",
       "        vertical-align: top;\n",
       "    }\n",
       "\n",
       "    .dataframe thead th {\n",
       "        text-align: right;\n",
       "    }\n",
       "</style>\n",
       "<table border=\"1\" class=\"dataframe\">\n",
       "  <thead>\n",
       "    <tr style=\"text-align: right;\">\n",
       "      <th></th>\n",
       "      <th>pax</th>\n",
       "    </tr>\n",
       "    <tr>\n",
       "      <th>arr_port</th>\n",
       "      <th></th>\n",
       "    </tr>\n",
       "  </thead>\n",
       "  <tbody>\n",
       "    <tr>\n",
       "      <td>ABQ</td>\n",
       "      <td>2</td>\n",
       "    </tr>\n",
       "    <tr>\n",
       "      <td>ACC</td>\n",
       "      <td>0</td>\n",
       "    </tr>\n",
       "    <tr>\n",
       "      <td>ADD</td>\n",
       "      <td>4</td>\n",
       "    </tr>\n",
       "    <tr>\n",
       "      <td>AEP</td>\n",
       "      <td>3</td>\n",
       "    </tr>\n",
       "    <tr>\n",
       "      <td>AER</td>\n",
       "      <td>1</td>\n",
       "    </tr>\n",
       "  </tbody>\n",
       "</table>\n",
       "</div>"
      ],
      "text/plain": [
       "          pax\n",
       "arr_port     \n",
       "ABQ         2\n",
       "ACC         0\n",
       "ADD         4\n",
       "AEP         3\n",
       "AER         1"
      ]
     },
     "execution_count": 85,
     "metadata": {},
     "output_type": "execute_result"
    }
   ],
   "source": [
    "all_chunks.head()"
   ]
  },
  {
   "cell_type": "code",
   "execution_count": 86,
   "metadata": {},
   "outputs": [
    {
     "data": {
      "text/html": [
       "<div>\n",
       "<style scoped>\n",
       "    .dataframe tbody tr th:only-of-type {\n",
       "        vertical-align: middle;\n",
       "    }\n",
       "\n",
       "    .dataframe tbody tr th {\n",
       "        vertical-align: top;\n",
       "    }\n",
       "\n",
       "    .dataframe thead th {\n",
       "        text-align: right;\n",
       "    }\n",
       "</style>\n",
       "<table border=\"1\" class=\"dataframe\">\n",
       "  <thead>\n",
       "    <tr style=\"text-align: right;\">\n",
       "      <th></th>\n",
       "      <th>arr_port</th>\n",
       "      <th>pax</th>\n",
       "    </tr>\n",
       "  </thead>\n",
       "  <tbody>\n",
       "    <tr>\n",
       "      <td>0</td>\n",
       "      <td>ABQ</td>\n",
       "      <td>2</td>\n",
       "    </tr>\n",
       "    <tr>\n",
       "      <td>1</td>\n",
       "      <td>ACC</td>\n",
       "      <td>0</td>\n",
       "    </tr>\n",
       "    <tr>\n",
       "      <td>2</td>\n",
       "      <td>ADD</td>\n",
       "      <td>4</td>\n",
       "    </tr>\n",
       "    <tr>\n",
       "      <td>3</td>\n",
       "      <td>AEP</td>\n",
       "      <td>3</td>\n",
       "    </tr>\n",
       "    <tr>\n",
       "      <td>4</td>\n",
       "      <td>AER</td>\n",
       "      <td>1</td>\n",
       "    </tr>\n",
       "  </tbody>\n",
       "</table>\n",
       "</div>"
      ],
      "text/plain": [
       "   arr_port  pax\n",
       "0  ABQ         2\n",
       "1  ACC         0\n",
       "2  ADD         4\n",
       "3  AEP         3\n",
       "4  AER         1"
      ]
     },
     "execution_count": 86,
     "metadata": {},
     "output_type": "execute_result"
    }
   ],
   "source": [
    "#con reset index cogemos todos los indices y los reseteamos \n",
    "#ya que al ser de dataframes diferentes tienen el indice no consecutivo\n",
    "all_chunks.reset_index().head()"
   ]
  },
  {
   "cell_type": "code",
   "execution_count": 92,
   "metadata": {},
   "outputs": [],
   "source": [
    "import neobase as nb"
   ]
  },
  {
   "cell_type": "code",
   "execution_count": 93,
   "metadata": {},
   "outputs": [
    {
     "data": {
      "text/plain": [
       "['LatLng',\n",
       " 'NeoBase',\n",
       " '__builtins__',\n",
       " '__cached__',\n",
       " '__doc__',\n",
       " '__file__',\n",
       " '__loader__',\n",
       " '__name__',\n",
       " '__package__',\n",
       " '__path__',\n",
       " '__spec__',\n",
       " 'neobase']"
      ]
     },
     "execution_count": 93,
     "metadata": {},
     "output_type": "execute_result"
    }
   ],
   "source": [
    "dir(nb)\n",
    "#nos dice todos los atributos de la libreria"
   ]
  },
  {
   "cell_type": "code",
   "execution_count": 95,
   "metadata": {},
   "outputs": [
    {
     "name": "stdout",
     "output_type": "stream",
     "text": [
      "Help on package neobase:\n",
      "\n",
      "NAME\n",
      "    neobase - # -*- coding: utf-8 -*-\n",
      "\n",
      "PACKAGE CONTENTS\n",
      "    __main__\n",
      "    neobase\n",
      "\n",
      "FILE\n",
      "    /Users/elenatajadura/opt/anaconda3/lib/python3.7/site-packages/neobase/__init__.py\n",
      "\n",
      "\n"
     ]
    }
   ],
   "source": [
    "help(nb)"
   ]
  },
  {
   "cell_type": "code",
   "execution_count": 97,
   "metadata": {},
   "outputs": [],
   "source": [
    "from neobase import NeoBase"
   ]
  },
  {
   "cell_type": "code",
   "execution_count": 98,
   "metadata": {},
   "outputs": [
    {
     "name": "stdout",
     "output_type": "stream",
     "text": [
      "Help on class NeoBase in module neobase.neobase:\n",
      "\n",
      "class NeoBase(builtins.object)\n",
      " |  NeoBase(rows=None, date=None)\n",
      " |  \n",
      " |  Main structure, a wrapper around a dict, with dict-like behavior.\n",
      " |  \n",
      " |  Methods defined here:\n",
      " |  \n",
      " |  __contains__(self, key)\n",
      " |      Test if a key is in the base.\n",
      " |      \n",
      " |      :param key: the key of to be tested\n",
      " |      :returns:   a boolean\n",
      " |      \n",
      " |      >>> b = NeoBase()\n",
      " |      >>> 'AN' in b\n",
      " |      False\n",
      " |      >>> 'AGN' in b\n",
      " |      True\n",
      " |  \n",
      " |  __init__(self, rows=None, date=None)\n",
      " |      Initialize self.  See help(type(self)) for accurate signature.\n",
      " |  \n",
      " |  __iter__(self)\n",
      " |      Returns iterator of all keys in the base.\n",
      " |      \n",
      " |      :returns: the iterator of all keys\n",
      " |      \n",
      " |      >>> b = NeoBase()\n",
      " |      >>> sorted(b)\n",
      " |      ['AAA', 'AAA@1', 'AAB', ...\n",
      " |  \n",
      " |  __len__(self)\n",
      " |      Testing structure size.\n",
      " |      \n",
      " |      :returns: a integer\n",
      " |      \n",
      " |      >>> b = NeoBase()\n",
      " |      >>> 18000 < len(b) < 20000\n",
      " |      True\n",
      " |  \n",
      " |  __nonzero__(self)\n",
      " |      Testing structure emptiness.\n",
      " |      \n",
      " |      :returns: a boolean\n",
      " |      \n",
      " |      >>> b = NeoBase()\n",
      " |      >>> if b:\n",
      " |      ...     print('not empty')\n",
      " |      not empty\n",
      " |  \n",
      " |  distance(self, key_0, key_1)\n",
      " |      Compute distance between two elements.\n",
      " |      \n",
      " |      This is just a wrapper between the original haversine\n",
      " |      function, but it is probably the most used feature :)\n",
      " |      \n",
      " |      :param key_0: the first key\n",
      " |      :param key_1: the second key\n",
      " |      :returns:    the distance (km)\n",
      " |      \n",
      " |      >>> b = NeoBase()\n",
      " |      >>> b.distance('ORY', 'CDG')\n",
      " |      34.87...\n",
      " |  \n",
      " |  find_closest_from_location(self, lat_lng, N=1, from_keys=None)\n",
      " |      Concept close to find_near_location, but here we do not\n",
      " |      look for the keys radius-close to a location,\n",
      " |      we look for the closest key from this location, given by\n",
      " |      latitude/longitude.\n",
      " |      \n",
      " |      Note that a similar implementation is done in\n",
      " |      the LocalHelper, to find efficiently N closest location\n",
      " |      in a graph, from a location (using heaps).\n",
      " |      \n",
      " |      :param lat_lng:   the lat_lng of the location\n",
      " |      :param N:         the N closest results wanted\n",
      " |      :param from_keys: if None, it takes all keys in consideration, else takes from_keys             iterable of keys to perform find_closest_from_location. This is useful to combine             searches\n",
      " |      :returns:   one key (like 'SFO'), or a list if approximate is not None\n",
      " |      \n",
      " |      >>> b = NeoBase()\n",
      " |      >>> list(b.find_closest_from_location((43.70, 7.26))) # Nice\n",
      " |      [(0.60..., 'NCE@1')]\n",
      " |      >>> list(b.find_closest_from_location((43.70, 7.26), N=3)) # Nice\n",
      " |      [(0.60..., 'NCE@1'), (5.82..., 'NCE'), (5.89..., 'XBM')]\n",
      " |  \n",
      " |  find_near(self, key, radius=50, from_keys=None)\n",
      " |      Same as find_near_location, except the location is given\n",
      " |      not by a lat/lng, but with its key, like ORY or SFO.\n",
      " |      We just look up in the base to retrieve lat/lng, and\n",
      " |      call find_near_location.\n",
      " |      \n",
      " |      :param key:     the key of the location\n",
      " |      :param radius:  the radius of the search (kilometers)\n",
      " |      :param from_keys: if None, it takes all keys in consideration, else takes from_keys             iterable of keys to perform search.\n",
      " |      :returns:       a list of keys (like ['ORY', 'CDG'])\n",
      " |      \n",
      " |      >>> b = NeoBase()\n",
      " |      >>> sorted(b.find_near('ORY', 10)) # Orly, por <= 10km\n",
      " |      [(0.0, 'ORY'), (6.94..., 'XJY'), (9.96..., 'QFC')]\n",
      " |  \n",
      " |  find_near_location(self, lat_lng, radius=50, from_keys=None)\n",
      " |      Returns a list of nearby keys from a location (given\n",
      " |      latidude and longitude), and a radius for the search.\n",
      " |      Note that the haversine function, which compute distance\n",
      " |      at the surface of a sphere, here returns kilometers,\n",
      " |      so the radius should be in kms.\n",
      " |      \n",
      " |      :param lat_lng: the lat_lng of the location\n",
      " |      :param radius:  the radius of the search (kilometers)\n",
      " |      :param from_keys: if None, it takes all keys in consideration, else takes from_keys             iterable of keys to perform search.\n",
      " |      :returns:       an iterable of keys (like ['ORY', 'CDG'])\n",
      " |      \n",
      " |      >>> b = NeoBase()\n",
      " |      >>> # Paris, airports <= 50km\n",
      " |      >>> [b.get(k, 'iata_code') for d, k in sorted(b.find_near_location((48.84, 2.367), 5))]\n",
      " |      ['PAR', 'XGB', 'XHP', 'XPG', 'XEX']\n",
      " |  \n",
      " |  find_with(self, conditions, from_keys=None, reverse=False)\n",
      " |      Get iterator of all keys with particular field.\n",
      " |      \n",
      " |      For example, if you want to know all airports in Paris.\n",
      " |      \n",
      " |      :param conditions: a list of (field, value) conditions\n",
      " |      :param reverse:    we look keys where the field is *not* the particular value\n",
      " |      :returns:          an iterator of matching keys\n",
      " |      \n",
      " |      Testing several conditions.\n",
      " |      \n",
      " |      >>> b = NeoBase()\n",
      " |      >>> c0 = [('city_code_list', ['PAR'])]\n",
      " |      >>> c1 = [('location_type', ['H'])]\n",
      " |      >>> len(list(b.find_with(c0)))\n",
      " |      16\n",
      " |      >>> len(list(b.find_with(c0 + c1)))\n",
      " |      2\n",
      " |  \n",
      " |  get(self, key, field=None, default=<object object at 0x7faa68999d00>)\n",
      " |      Get data from structure.\n",
      " |      \n",
      " |      >>> b = NeoBase()\n",
      " |      >>> b.get('OR', 'city_code_list', default=None)\n",
      " |      >>> b.get('ORY', 'city_code_list')\n",
      " |      ['PAR']\n",
      " |  \n",
      " |  get_location(self, key, default=<object object at 0x7faa68999d00>)\n",
      " |      Get None or the geocode.\n",
      " |      \n",
      " |      >>> b = NeoBase()\n",
      " |      >>> b.get_location('ORY')\n",
      " |      LatLng(lat=48.72..., lng=2.35...)\n",
      " |  \n",
      " |  keys(self)\n",
      " |      Returns iterator of all keys in the base.\n",
      " |      \n",
      " |      :returns: the iterator of all keys\n",
      " |      \n",
      " |      >>> b = NeoBase()\n",
      " |      >>> sorted(b.keys())\n",
      " |      ['AAA', 'AAA@1', 'AAB', ...\n",
      " |  \n",
      " |  set(self, key, **data)\n",
      " |      Set information.\n",
      " |      \n",
      " |      >>> b = NeoBase()\n",
      " |      >>> b.get('ORY', 'name')\n",
      " |      'Paris Orly Airport'\n",
      " |      >>> b.set('ORY', name='test')\n",
      " |      >>> b.get('ORY', 'name')\n",
      " |      'test'\n",
      " |      >>> b.set('Wow!', name='test')\n",
      " |      >>> b.get('Wow!', 'name')\n",
      " |      'test'\n",
      " |  \n",
      " |  ----------------------------------------------------------------------\n",
      " |  Class methods defined here:\n",
      " |  \n",
      " |  load(f, date) from builtins.type\n",
      " |      Building a dictionary of geographical data from optd_por.\n",
      " |      \n",
      " |      >>> path = op.join(op.dirname(__file__), 'optd_por_public.csv')\n",
      " |      >>> with open_(path) as f:\n",
      " |      ...     b = NeoBase.load(f, '2030-01-01')\n",
      " |      >>> b['ORY']['city_code_list']\n",
      " |      ['PAR']\n",
      " |  \n",
      " |  ----------------------------------------------------------------------\n",
      " |  Static methods defined here:\n",
      " |  \n",
      " |  distance_between_locations(l0, l1)\n",
      " |      Great circle distance\n",
      " |      \n",
      " |      :param l0: the LatLng tuple of the first location\n",
      " |      :param l1: the LatLng tuple of the second location\n",
      " |      :returns:  the distance in kilometers\n",
      " |      \n",
      " |      >>> NeoBase.distance_between_locations((48.84, 2.367), (43.70, 7.26)) # Paris -> Nice\n",
      " |      683.85...\n",
      " |      \n",
      " |      Case of unknown location.\n",
      " |      \n",
      " |      >>> NeoBase.distance_between_locations(None, (43.70, 7.26)) # returns None\n",
      " |  \n",
      " |  skip(row, date)\n",
      " |  \n",
      " |  ----------------------------------------------------------------------\n",
      " |  Data descriptors defined here:\n",
      " |  \n",
      " |  __dict__\n",
      " |      dictionary for instance variables (if defined)\n",
      " |  \n",
      " |  __weakref__\n",
      " |      list of weak references to the object (if defined)\n",
      " |  \n",
      " |  ----------------------------------------------------------------------\n",
      " |  Data and other attributes defined here:\n",
      " |  \n",
      " |  DUPLICATES = True\n",
      " |  \n",
      " |  FIELDS = (('iata_code', 0, None), ('name', 6, None), ('lat', 8, None),...\n",
      " |  \n",
      " |  KEY = 0\n",
      "\n"
     ]
    }
   ],
   "source": [
    "help(NeoBase)"
   ]
  },
  {
   "cell_type": "code",
   "execution_count": 99,
   "metadata": {},
   "outputs": [],
   "source": [
    "geoDict = NeoBase()"
   ]
  },
  {
   "cell_type": "code",
   "execution_count": 100,
   "metadata": {},
   "outputs": [
    {
     "data": {
      "text/plain": [
       "neobase.neobase.NeoBase"
      ]
     },
     "execution_count": 100,
     "metadata": {},
     "output_type": "execute_result"
    }
   ],
   "source": [
    "type(geoDict)"
   ]
  },
  {
   "cell_type": "code",
   "execution_count": 107,
   "metadata": {},
   "outputs": [
    {
     "data": {
      "text/plain": [
       "'London Heathrow Airport'"
      ]
     },
     "execution_count": 107,
     "metadata": {},
     "output_type": "execute_result"
    }
   ],
   "source": [
    "geoDict.get('LHR')['name']"
   ]
  },
  {
   "cell_type": "code",
   "execution_count": 138,
   "metadata": {},
   "outputs": [
    {
     "name": "stdout",
     "output_type": "stream",
     "text": [
      "0\n",
      "1\n",
      "2\n",
      "3\n",
      "4\n",
      "5\n",
      "6\n",
      "7\n",
      "8\n",
      "9\n",
      "10\n"
     ]
    },
    {
     "name": "stderr",
     "output_type": "stream",
     "text": [
      "/Users/elenatajadura/opt/anaconda3/lib/python3.7/site-packages/ipykernel_launcher.py:18: SettingWithCopyWarning: \n",
      "A value is trying to be set on a copy of a slice from a DataFrame.\n",
      "Try using .loc[row_indexer,col_indexer] = value instead\n",
      "\n",
      "See the caveats in the documentation: http://pandas.pydata.org/pandas-docs/stable/user_guide/indexing.html#returning-a-view-versus-a-copy\n"
     ]
    }
   ],
   "source": [
    "#para el bonus hacemos lo siguiente\n",
    "\n",
    "#vamos a recorrrer todo el fichero y calcularlo sobre el total de trocito en trocito\n",
    "import pandas as pd\n",
    "#b_iter = pd.read_csv('bookings.sample.csv.bz2', sep='^', usecols=['arr_port', 'pax', 'year'], chunksize=3000)\n",
    "b_iter = pd.read_csv('bookings.csv.bz2', sep='^', usecols=['arr_port', 'pax', 'year'], chunksize=1000000)\n",
    "all_chunks=pd.DataFrame()\n",
    "for i, b_chunk in enumerate(b_iter):\n",
    "    print(i)\n",
    "    b=b_chunk.dropna()\n",
    "    year_2013=b[b.year == 2013][['arr_port','pax']]\n",
    "    b = year_2013.groupby('arr_port').sum()\n",
    "    all_chunks=all_chunks.append(b)\n",
    "all_chunks=all_chunks.groupby('arr_port').sum().sort_values('pax',ascending=False).reset_index()\n",
    "all_chunks['arr_port']=all_chunks['arr_port'].str.strip()\n",
    "#all_chunks['AirportName']=all_chunks['arr_port'].map(lambda x: geoDict.get(x,'name'))\n",
    "total=all_chunks.head(10)\n",
    "total['AirportName']=total['arr_port'].map(lambda x: geoDict.get(x,'name'))\n",
    "#en teoria append es mas rapido q concat  "
   ]
  },
  {
   "cell_type": "code",
   "execution_count": 139,
   "metadata": {},
   "outputs": [
    {
     "data": {
      "text/html": [
       "<div>\n",
       "<style scoped>\n",
       "    .dataframe tbody tr th:only-of-type {\n",
       "        vertical-align: middle;\n",
       "    }\n",
       "\n",
       "    .dataframe tbody tr th {\n",
       "        vertical-align: top;\n",
       "    }\n",
       "\n",
       "    .dataframe thead th {\n",
       "        text-align: right;\n",
       "    }\n",
       "</style>\n",
       "<table border=\"1\" class=\"dataframe\">\n",
       "  <thead>\n",
       "    <tr style=\"text-align: right;\">\n",
       "      <th></th>\n",
       "      <th>arr_port</th>\n",
       "      <th>pax</th>\n",
       "      <th>AirportName</th>\n",
       "    </tr>\n",
       "  </thead>\n",
       "  <tbody>\n",
       "    <tr>\n",
       "      <td>0</td>\n",
       "      <td>LHR</td>\n",
       "      <td>88809.0</td>\n",
       "      <td>London Heathrow Airport</td>\n",
       "    </tr>\n",
       "    <tr>\n",
       "      <td>1</td>\n",
       "      <td>MCO</td>\n",
       "      <td>70930.0</td>\n",
       "      <td>Orlando International Airport</td>\n",
       "    </tr>\n",
       "    <tr>\n",
       "      <td>2</td>\n",
       "      <td>LAX</td>\n",
       "      <td>70530.0</td>\n",
       "      <td>Los Angeles International Airport</td>\n",
       "    </tr>\n",
       "    <tr>\n",
       "      <td>3</td>\n",
       "      <td>LAS</td>\n",
       "      <td>69630.0</td>\n",
       "      <td>McCarran International Airport</td>\n",
       "    </tr>\n",
       "    <tr>\n",
       "      <td>4</td>\n",
       "      <td>JFK</td>\n",
       "      <td>66270.0</td>\n",
       "      <td>John F. Kennedy International Airport</td>\n",
       "    </tr>\n",
       "    <tr>\n",
       "      <td>5</td>\n",
       "      <td>CDG</td>\n",
       "      <td>64490.0</td>\n",
       "      <td>Paris Charles de Gaulle Airport</td>\n",
       "    </tr>\n",
       "    <tr>\n",
       "      <td>6</td>\n",
       "      <td>BKK</td>\n",
       "      <td>59460.0</td>\n",
       "      <td>Suvarnabhumi Airport</td>\n",
       "    </tr>\n",
       "    <tr>\n",
       "      <td>7</td>\n",
       "      <td>MIA</td>\n",
       "      <td>58150.0</td>\n",
       "      <td>Miami International Airport</td>\n",
       "    </tr>\n",
       "    <tr>\n",
       "      <td>8</td>\n",
       "      <td>SFO</td>\n",
       "      <td>58000.0</td>\n",
       "      <td>San Francisco International Airport</td>\n",
       "    </tr>\n",
       "    <tr>\n",
       "      <td>9</td>\n",
       "      <td>DXB</td>\n",
       "      <td>55590.0</td>\n",
       "      <td>Dubai International Airport</td>\n",
       "    </tr>\n",
       "  </tbody>\n",
       "</table>\n",
       "</div>"
      ],
      "text/plain": [
       "  arr_port      pax                            AirportName\n",
       "0      LHR  88809.0                London Heathrow Airport\n",
       "1      MCO  70930.0          Orlando International Airport\n",
       "2      LAX  70530.0      Los Angeles International Airport\n",
       "3      LAS  69630.0         McCarran International Airport\n",
       "4      JFK  66270.0  John F. Kennedy International Airport\n",
       "5      CDG  64490.0        Paris Charles de Gaulle Airport\n",
       "6      BKK  59460.0                   Suvarnabhumi Airport\n",
       "7      MIA  58150.0            Miami International Airport\n",
       "8      SFO  58000.0    San Francisco International Airport\n",
       "9      DXB  55590.0            Dubai International Airport"
      ]
     },
     "execution_count": 139,
     "metadata": {},
     "output_type": "execute_result"
    }
   ],
   "source": [
    "total"
   ]
  },
  {
   "cell_type": "code",
   "execution_count": 140,
   "metadata": {
    "scrolled": true
   },
   "outputs": [
    {
     "data": {
      "text/plain": [
       "'London Heathrow Airport'"
      ]
     },
     "execution_count": 140,
     "metadata": {},
     "output_type": "execute_result"
    }
   ],
   "source": [
    "geoDict.get(all_chunks.arr_port[0],'name')"
   ]
  },
  {
   "cell_type": "code",
   "execution_count": 141,
   "metadata": {},
   "outputs": [],
   "source": [
    "#all_chunks['AirportName']=all_chunks['arr_port'].map(lambda x: geoDict.get(x,'name'))"
   ]
  },
  {
   "cell_type": "code",
   "execution_count": 142,
   "metadata": {},
   "outputs": [],
   "source": [
    "all_chunks=all_chunks.astype({'pax':int})"
   ]
  },
  {
   "cell_type": "code",
   "execution_count": 143,
   "metadata": {},
   "outputs": [
    {
     "data": {
      "text/html": [
       "<div>\n",
       "<style scoped>\n",
       "    .dataframe tbody tr th:only-of-type {\n",
       "        vertical-align: middle;\n",
       "    }\n",
       "\n",
       "    .dataframe tbody tr th {\n",
       "        vertical-align: top;\n",
       "    }\n",
       "\n",
       "    .dataframe thead th {\n",
       "        text-align: right;\n",
       "    }\n",
       "</style>\n",
       "<table border=\"1\" class=\"dataframe\">\n",
       "  <thead>\n",
       "    <tr style=\"text-align: right;\">\n",
       "      <th></th>\n",
       "      <th>arr_port</th>\n",
       "      <th>pax</th>\n",
       "    </tr>\n",
       "  </thead>\n",
       "  <tbody>\n",
       "    <tr>\n",
       "      <td>0</td>\n",
       "      <td>LHR</td>\n",
       "      <td>88809</td>\n",
       "    </tr>\n",
       "    <tr>\n",
       "      <td>1</td>\n",
       "      <td>MCO</td>\n",
       "      <td>70930</td>\n",
       "    </tr>\n",
       "    <tr>\n",
       "      <td>2</td>\n",
       "      <td>LAX</td>\n",
       "      <td>70530</td>\n",
       "    </tr>\n",
       "    <tr>\n",
       "      <td>3</td>\n",
       "      <td>LAS</td>\n",
       "      <td>69630</td>\n",
       "    </tr>\n",
       "    <tr>\n",
       "      <td>4</td>\n",
       "      <td>JFK</td>\n",
       "      <td>66270</td>\n",
       "    </tr>\n",
       "  </tbody>\n",
       "</table>\n",
       "</div>"
      ],
      "text/plain": [
       "  arr_port    pax\n",
       "0      LHR  88809\n",
       "1      MCO  70930\n",
       "2      LAX  70530\n",
       "3      LAS  69630\n",
       "4      JFK  66270"
      ]
     },
     "execution_count": 143,
     "metadata": {},
     "output_type": "execute_result"
    }
   ],
   "source": [
    "all_chunks.head()"
   ]
  },
  {
   "cell_type": "code",
   "execution_count": 144,
   "metadata": {},
   "outputs": [],
   "source": [
    "total=total.astype({'pax':int})"
   ]
  },
  {
   "cell_type": "code",
   "execution_count": 145,
   "metadata": {},
   "outputs": [],
   "source": [
    "total.to_csv('top_airports.csv', sep='^', index=False)"
   ]
  },
  {
   "cell_type": "code",
   "execution_count": 146,
   "metadata": {},
   "outputs": [
    {
     "name": "stdout",
     "output_type": "stream",
     "text": [
      "arr_port^pax^AirportName\r\n",
      "LHR^88809^London Heathrow Airport\r\n",
      "MCO^70930^Orlando International Airport\r\n",
      "LAX^70530^Los Angeles International Airport\r\n",
      "LAS^69630^McCarran International Airport\r\n",
      "JFK^66270^John F. Kennedy International Airport\r\n",
      "CDG^64490^Paris Charles de Gaulle Airport\r\n",
      "BKK^59460^Suvarnabhumi Airport\r\n",
      "MIA^58150^Miami International Airport\r\n",
      "SFO^58000^San Francisco International Airport\r\n"
     ]
    }
   ],
   "source": [
    "!head ./top_airports.csv"
   ]
  },
  {
   "cell_type": "markdown",
   "metadata": {},
   "source": [
    "## Web service"
   ]
  },
  {
   "cell_type": "raw",
   "metadata": {},
   "source": [
    "http://flask.pocoo.org/docs/0.10/quickstart/"
   ]
  },
  {
   "cell_type": "code",
   "execution_count": 148,
   "metadata": {},
   "outputs": [],
   "source": [
    "from flask import Flask"
   ]
  },
  {
   "cell_type": "code",
   "execution_count": null,
   "metadata": {},
   "outputs": [],
   "source": [
    "app = Flask(\"My first web service\")\n",
    "@app.route('/hello', methods=['GET'])\n",
    "def get_hello():\n",
    "    return \"Hello DS from the service!\"\n",
    "@app.route('/ret_number/<int:n>', methods=['GET'])\n",
    "def get_number(n):\n",
    "    return \"I will return you a number. It was %d\" % n\n",
    "@app.route('/airports', methods=['GET'])\n",
    "def get_airports():\n",
    "    return total.to_json()"
   ]
  },
  {
   "cell_type": "code",
   "execution_count": null,
   "metadata": {},
   "outputs": [],
   "source": [
    "app.run()"
   ]
  },
  {
   "cell_type": "code",
   "execution_count": null,
   "metadata": {},
   "outputs": [],
   "source": [
    " http://127.0.0.1:5000/hello"
   ]
  },
  {
   "cell_type": "code",
   "execution_count": null,
   "metadata": {},
   "outputs": [],
   "source": [
    "@app.route('/airports', methods=['GET'])\n",
    "def get_airports():\n",
    "    return total.to_json(orient='index')"
   ]
  },
  {
   "cell_type": "code",
   "execution_count": null,
   "metadata": {},
   "outputs": [],
   "source": [
    "app.run()"
   ]
  },
  {
   "cell_type": "code",
   "execution_count": null,
   "metadata": {},
   "outputs": [],
   "source": []
  },
  {
   "cell_type": "code",
   "execution_count": null,
   "metadata": {},
   "outputs": [],
   "source": []
  },
  {
   "cell_type": "code",
   "execution_count": null,
   "metadata": {
    "collapsed": true
   },
   "outputs": [],
   "source": []
  }
 ],
 "metadata": {
  "kernelspec": {
   "display_name": "Python 3",
   "language": "python",
   "name": "python3"
  },
  "language_info": {
   "codemirror_mode": {
    "name": "ipython",
    "version": 3
   },
   "file_extension": ".py",
   "mimetype": "text/x-python",
   "name": "python",
   "nbconvert_exporter": "python",
   "pygments_lexer": "ipython3",
   "version": "3.7.4"
  }
 },
 "nbformat": 4,
 "nbformat_minor": 2
}
