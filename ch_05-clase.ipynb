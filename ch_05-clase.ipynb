{
 "cells": [
  {
   "cell_type": "markdown",
   "metadata": {
    "collapsed": true
   },
   "source": [
    "## Write a Web Service\n",
    "\n",
    "Wrap the output of the second exercise in a web service that returns the data in JSON format (instead of printing to the standard output).\n",
    "\n",
    "The web service should accept a parameter n>0. For the top 10 airports, n is 10. For the X top airports, n is X \n"
   ]
  },
  {
   "cell_type": "markdown",
   "metadata": {},
   "source": [
    "## Web Service"
   ]
  },
  {
   "cell_type": "raw",
   "metadata": {},
   "source": [
    "http://flask.pocoo.org/docs/0.10/quickstart/"
   ]
  },
  {
   "cell_type": "code",
   "execution_count": 1,
   "metadata": {},
   "outputs": [],
   "source": [
    "from flask import Flask"
   ]
  },
  {
   "cell_type": "code",
   "execution_count": 2,
   "metadata": {},
   "outputs": [],
   "source": [
    "app = Flask(\"My first web service\")\n",
    "@app.route('/hello', methods=['GET'])\n",
    "#GET    The browser tells the server to just get the information stored on that page and send it. \n",
    "def get_hello():\n",
    "    return \"Hello DS from the service!\""
   ]
  },
  {
   "cell_type": "code",
   "execution_count": 3,
   "metadata": {},
   "outputs": [
    {
     "name": "stdout",
     "output_type": "stream",
     "text": [
      " * Serving Flask app \"My first web service\" (lazy loading)\n",
      " * Environment: production\n",
      "   WARNING: This is a development server. Do not use it in a production deployment.\n",
      "   Use a production WSGI server instead.\n",
      " * Debug mode: off\n"
     ]
    },
    {
     "name": "stderr",
     "output_type": "stream",
     "text": [
      " * Running on http://127.0.0.1:5000/ (Press CTRL+C to quit)\n"
     ]
    }
   ],
   "source": [
    "app.run()\n",
    "#Running on http://127.0.0.1:5000/"
   ]
  },
  {
   "cell_type": "raw",
   "metadata": {},
   "source": [
    "http://127.0.0.1:5000/hello"
   ]
  },
  {
   "cell_type": "raw",
   "metadata": {},
   "source": [
    "HTTP (the protocol web applications are speaking) knows different methods for accessing URLs. By default, a route only answers to GET requests, but that can be changed by providing the methods argument to the route() decorator. "
   ]
  },
  {
   "cell_type": "raw",
   "metadata": {},
   "source": [
    "The HTTP method (also often called “the verb”) tells the server what the clients wants to do with the requested page."
   ]
  },
  {
   "cell_type": "raw",
   "metadata": {},
   "source": [
    "GET\n",
    "    The browser tells the server to just get the information stored on that page and send it. This is probably the most common method.\n",
    "\n",
    "HEAD\n",
    "    The browser tells the server to get the information, but it is only interested in the headers, not the content of the page. An application is supposed to handle that as if a GET request was received but to not deliver the actual content.\n",
    "    \n",
    "POST\n",
    "    The browser tells the server that it wants to post some new information to that URL and that the server must ensure the data is stored and only stored once. This is how HTML forms usually transmit data to the server.\n",
    "\n",
    "PUT\n",
    "    Similar to POST but the server might trigger the store procedure multiple times by overwriting the old values more than once. Now you might be asking why this is useful, but there are some good reasons to do it this way. Consider that the connection is lost during transmission: in this situation a system between the browser and the server might receive the request safely a second time without breaking things. With POST that would not be possible because it must only be triggered once.\n",
    "\n",
    "DELETE\n",
    "    Remove the information at the given location.\n",
    "\n",
    "OPTIONS\n",
    "    Provides a quick way for a client to figure out which methods are supported by this URL. Starting with Flask 0.6, this is implemented for you automatically. "
   ]
  },
  {
   "cell_type": "code",
   "execution_count": 4,
   "metadata": {},
   "outputs": [],
   "source": [
    "app = Flask(\"My first web service\")\n",
    "@app.route('/hello', methods=['GET'])\n",
    "#GET    The browser tells the server to just get the information stored on that page and send it. \n",
    "def get_hello():\n",
    "    return \"Hello DS from the service!\"\n",
    "\n",
    "@app.route('/ret_number/<int:n>', methods=['GET'])\n",
    "def get_number(n):\n",
    "    return \"I will return you a number. It was %d !!!!\" % n"
   ]
  },
  {
   "cell_type": "code",
   "execution_count": null,
   "metadata": {
    "scrolled": true
   },
   "outputs": [
    {
     "name": "stdout",
     "output_type": "stream",
     "text": [
      " * Serving Flask app \"My first web service\" (lazy loading)\n",
      " * Environment: production\n",
      "   WARNING: This is a development server. Do not use it in a production deployment.\n",
      "   Use a production WSGI server instead.\n",
      " * Debug mode: off\n"
     ]
    },
    {
     "name": "stderr",
     "output_type": "stream",
     "text": [
      " * Running on http://127.0.0.1:5000/ (Press CTRL+C to quit)\n"
     ]
    }
   ],
   "source": [
    "app.run()"
   ]
  },
  {
   "cell_type": "code",
   "execution_count": null,
   "metadata": {},
   "outputs": [],
   "source": [
    "app = Flask(\"My first web service\")\n",
    "@app.route('/hello', methods=['GET'])\n",
    "#GET    The browser tells the server to just get the information stored on that page and send it. \n",
    "def get_hello():\n",
    "    return \"Hello DS from the service!\"\n",
    "\n",
    "@app.route('/ret_number/<n>', methods=['GET'])\n",
    "def get_number(n):\n",
    "    try:\n",
    "        numb=int(n)\n",
    "        return \"I will return you a number. It was %d !!!!\" % numb\n",
    "    except:\n",
    "        return \"This was not a number\""
   ]
  },
  {
   "cell_type": "code",
   "execution_count": null,
   "metadata": {},
   "outputs": [],
   "source": [
    "app.run()"
   ]
  },
  {
   "cell_type": "code",
   "execution_count": null,
   "metadata": {},
   "outputs": [],
   "source": []
  },
  {
   "cell_type": "code",
   "execution_count": null,
   "metadata": {},
   "outputs": [],
   "source": []
  },
  {
   "cell_type": "code",
   "execution_count": null,
   "metadata": {},
   "outputs": [],
   "source": []
  },
  {
   "cell_type": "code",
   "execution_count": null,
   "metadata": {},
   "outputs": [],
   "source": []
  },
  {
   "cell_type": "code",
   "execution_count": null,
   "metadata": {},
   "outputs": [],
   "source": []
  },
  {
   "cell_type": "code",
   "execution_count": null,
   "metadata": {},
   "outputs": [],
   "source": []
  },
  {
   "cell_type": "code",
   "execution_count": null,
   "metadata": {},
   "outputs": [],
   "source": []
  },
  {
   "cell_type": "markdown",
   "metadata": {},
   "source": [
    "https://jsonformatter.org/json-pretty-print #says if it is valid or not  \n",
    "https://jsonformatter.curiousconcept.com/ # you can drill down"
   ]
  }
 ],
 "metadata": {
  "kernelspec": {
   "display_name": "Python 3",
   "language": "python",
   "name": "python3"
  },
  "language_info": {
   "codemirror_mode": {
    "name": "ipython",
    "version": 3
   },
   "file_extension": ".py",
   "mimetype": "text/x-python",
   "name": "python",
   "nbconvert_exporter": "python",
   "pygments_lexer": "ipython3",
   "version": "3.7.4"
  }
 },
 "nbformat": 4,
 "nbformat_minor": 1
}
